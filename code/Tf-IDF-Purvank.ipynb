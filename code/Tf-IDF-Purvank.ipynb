{
 "cells": [
  {
   "cell_type": "code",
   "execution_count": 2,
   "metadata": {
    "collapsed": true
   },
   "outputs": [],
   "source": [
    "import pandas as pd\n",
    "import numpy as np\n",
    "from nltk import tokenize\n",
    "from collections import OrderedDict\n",
    "from sklearn.feature_extraction.text import TfidfVectorizer\n",
    "from sklearn.metrics.pairwise import cosine_similarity"
   ]
  },
  {
   "cell_type": "code",
   "execution_count": 3,
   "metadata": {
    "collapsed": true
   },
   "outputs": [],
   "source": [
    "df = pd.read_csv(\"ReallyReallyCleaned.csv\")\n",
    "df.dropna(how='any',inplace=True)"
   ]
  },
  {
   "cell_type": "code",
   "execution_count": 4,
   "metadata": {
    "collapsed": false
   },
   "outputs": [
    {
     "data": {
      "text/html": [
       "<div>\n",
       "<table border=\"1\" class=\"dataframe\">\n",
       "  <thead>\n",
       "    <tr style=\"text-align: right;\">\n",
       "      <th></th>\n",
       "      <th>artist</th>\n",
       "      <th>lyrics</th>\n",
       "      <th>song</th>\n",
       "    </tr>\n",
       "    <tr>\n",
       "      <th>genre</th>\n",
       "      <th></th>\n",
       "      <th></th>\n",
       "      <th></th>\n",
       "    </tr>\n",
       "  </thead>\n",
       "  <tbody>\n",
       "    <tr>\n",
       "      <th>Hip-Hop</th>\n",
       "      <td>24967</td>\n",
       "      <td>24967</td>\n",
       "      <td>24967</td>\n",
       "    </tr>\n",
       "    <tr>\n",
       "      <th>Metal</th>\n",
       "      <td>23747</td>\n",
       "      <td>23747</td>\n",
       "      <td>23747</td>\n",
       "    </tr>\n",
       "    <tr>\n",
       "      <th>Pop</th>\n",
       "      <td>40527</td>\n",
       "      <td>40527</td>\n",
       "      <td>40527</td>\n",
       "    </tr>\n",
       "    <tr>\n",
       "      <th>Rock</th>\n",
       "      <td>108767</td>\n",
       "      <td>108767</td>\n",
       "      <td>108767</td>\n",
       "    </tr>\n",
       "  </tbody>\n",
       "</table>\n",
       "</div>"
      ],
      "text/plain": [
       "         artist  lyrics    song\n",
       "genre                          \n",
       "Hip-Hop   24967   24967   24967\n",
       "Metal     23747   23747   23747\n",
       "Pop       40527   40527   40527\n",
       "Rock     108767  108767  108767"
      ]
     },
     "execution_count": 4,
     "metadata": {},
     "output_type": "execute_result"
    }
   ],
   "source": [
    "df.drop(df.columns[[0]], axis=1,inplace=True)\n",
    "df.groupby('genre').count()"
   ]
  },
  {
   "cell_type": "code",
   "execution_count": 7,
   "metadata": {
    "collapsed": false
   },
   "outputs": [],
   "source": [
    "df = pd.read_csv(\"/Users/purvank/Desktop/NLP IIT/whole_data.csv\")"
   ]
  },
  {
   "cell_type": "code",
   "execution_count": 8,
   "metadata": {
    "collapsed": true
   },
   "outputs": [],
   "source": [
    "df_Hip = df[df['genre'] == 'Hip-Hop'].sample(n=20000)\n",
    "df_Metal = df[df['genre'] == 'Metal'].sample(n=20000)\n",
    "df_Pop = df[df['genre'] == 'Pop'].sample(n=20000)\n",
    "df_Rock = df[df['genre'] == 'Rock'].sample(n=20000)"
   ]
  },
  {
   "cell_type": "code",
   "execution_count": 9,
   "metadata": {
    "collapsed": false
   },
   "outputs": [],
   "source": [
    "data = df_Hip.append(df_Metal).append(df_Pop).append(df_Rock)"
   ]
  },
  {
   "cell_type": "code",
   "execution_count": 10,
   "metadata": {
    "collapsed": false
   },
   "outputs": [
    {
     "data": {
      "text/html": [
       "<div>\n",
       "<table border=\"1\" class=\"dataframe\">\n",
       "  <thead>\n",
       "    <tr style=\"text-align: right;\">\n",
       "      <th></th>\n",
       "      <th>Unnamed: 0</th>\n",
       "      <th>artist</th>\n",
       "      <th>lyrics</th>\n",
       "      <th>song</th>\n",
       "    </tr>\n",
       "    <tr>\n",
       "      <th>genre</th>\n",
       "      <th></th>\n",
       "      <th></th>\n",
       "      <th></th>\n",
       "      <th></th>\n",
       "    </tr>\n",
       "  </thead>\n",
       "  <tbody>\n",
       "    <tr>\n",
       "      <th>Hip-Hop</th>\n",
       "      <td>20000</td>\n",
       "      <td>20000</td>\n",
       "      <td>20000</td>\n",
       "      <td>20000</td>\n",
       "    </tr>\n",
       "    <tr>\n",
       "      <th>Metal</th>\n",
       "      <td>20000</td>\n",
       "      <td>20000</td>\n",
       "      <td>20000</td>\n",
       "      <td>20000</td>\n",
       "    </tr>\n",
       "    <tr>\n",
       "      <th>Pop</th>\n",
       "      <td>20000</td>\n",
       "      <td>20000</td>\n",
       "      <td>20000</td>\n",
       "      <td>20000</td>\n",
       "    </tr>\n",
       "    <tr>\n",
       "      <th>Rock</th>\n",
       "      <td>20000</td>\n",
       "      <td>20000</td>\n",
       "      <td>20000</td>\n",
       "      <td>20000</td>\n",
       "    </tr>\n",
       "  </tbody>\n",
       "</table>\n",
       "</div>"
      ],
      "text/plain": [
       "         Unnamed: 0  artist  lyrics   song\n",
       "genre                                     \n",
       "Hip-Hop       20000   20000   20000  20000\n",
       "Metal         20000   20000   20000  20000\n",
       "Pop           20000   20000   20000  20000\n",
       "Rock          20000   20000   20000  20000"
      ]
     },
     "execution_count": 10,
     "metadata": {},
     "output_type": "execute_result"
    }
   ],
   "source": [
    "data.groupby('genre').count()"
   ]
  },
  {
   "cell_type": "code",
   "execution_count": 11,
   "metadata": {
    "collapsed": false
   },
   "outputs": [],
   "source": [
    "tf_idf_Hip = TfidfVectorizer()\n",
    "H = tf_idf_Hip.fit_transform(df_Hip['lyrics'].values)\n",
    "\n",
    "tf_idf_Metal = TfidfVectorizer()\n",
    "M = tf_idf_Metal.fit_transform(df_Metal['lyrics'].values)\n",
    "\n",
    "tf_idf_Pop = TfidfVectorizer()\n",
    "P = tf_idf_Pop.fit_transform(df_Pop['lyrics'].values)\n",
    "\n",
    "tf_idf_Rock = TfidfVectorizer()\n",
    "R = tf_idf_Rock.fit_transform(df_Rock['lyrics'].values)"
   ]
  },
  {
   "cell_type": "code",
   "execution_count": 12,
   "metadata": {
    "collapsed": false,
    "scrolled": true
   },
   "outputs": [
    {
     "name": "stdout",
     "output_type": "stream",
     "text": [
      "like                                               Score: 859.8187242879758\n",
      "nigga                                              Score: 857.6771201028788\n",
      "get                                                Score: 733.9323129431828\n",
      "got                                                Score: 633.8212067045515\n",
      "know                                               Score: 627.6823095609653\n",
      "aint                                               Score: 506.35354474948343\n",
      "love                                               Score: 488.7356090725896\n",
      "fuck                                               Score: 467.904341188276\n",
      "shit                                               Score: 459.57235088221154\n",
      "go                                                 Score: 445.18747640649406\n",
      "caus                                               Score: 444.1447659172843\n",
      "bitch                                              Score: 412.41770406737373\n",
      "yeah                                               Score: 409.22669148489166\n",
      "let                                                Score: 404.4711425248035\n",
      "ya                                                 Score: 401.900848122459\n",
      "want                                               Score: 400.6241912338375\n",
      "girl                                               Score: 391.45494713625067\n",
      "see                                                Score: 391.152718766629\n",
      "make                                               Score: 385.1895645066759\n",
      "one                                                Score: 383.6851765019527\n",
      "back                                               Score: 371.5112746312733\n",
      "come                                               Score: 368.76999172078206\n",
      "time                                               Score: 357.62894170636065\n",
      "man                                                Score: 351.75248300976824\n",
      "oh                                                 Score: 339.78109802584413\n",
      "chorus                                             Score: 339.7043363759597\n",
      "say                                                Score: 336.6574620192734\n",
      "never                                              Score: 332.45022132661427\n",
      "yo                                                 Score: 331.5445472708486\n",
      "me                                                 Score: 322.9146235719588\n"
     ]
    }
   ],
   "source": [
    "hip_w = OrderedDict()\n",
    "scores = zip(tf_idf_Hip.get_feature_names(),np.asarray(H.sum(axis=0)).ravel())\n",
    "sorted_scores = sorted(scores, key=lambda x: x[1], reverse=True)\n",
    "i = 0 \n",
    "for item in sorted_scores:\n",
    "    if i<30:\n",
    "        hip_w[item[0]] = item[1]\n",
    "        print(\"{0:50} Score: {1}\".format(item[0], item[1]))\n",
    "        i+=1"
   ]
  },
  {
   "cell_type": "code",
   "execution_count": 13,
   "metadata": {
    "collapsed": false
   },
   "outputs": [
    {
     "name": "stdout",
     "output_type": "stream",
     "text": [
      "life                                               Score: 421.9495383013588\n",
      "time                                               Score: 406.5275890747751\n",
      "one                                                Score: 397.2741058810136\n",
      "see                                                Score: 384.0629336911889\n",
      "never                                              Score: 366.54711049990306\n",
      "know                                               Score: 348.34225902421196\n",
      "like                                               Score: 333.12714942877085\n",
      "come                                               Score: 324.2204161160298\n",
      "die                                                Score: 323.61681610728266\n",
      "feel                                               Score: 319.9570981160952\n",
      "world                                              Score: 310.2360731884365\n",
      "take                                               Score: 301.5475651160995\n",
      "away                                               Score: 295.0386462746333\n",
      "love                                               Score: 286.09933837481\n",
      "eye                                                Score: 281.92077685756504\n",
      "live                                               Score: 279.14598803527736\n",
      "way                                                Score: 277.39532403187525\n",
      "your                                               Score: 275.7204988550372\n",
      "let                                                Score: 269.716128191354\n",
      "day                                                Score: 261.9152911699658\n",
      "go                                                 Score: 260.80344920975375\n",
      "want                                               Score: 257.319531846674\n",
      "soul                                               Score: 255.52581860256882\n",
      "death                                              Score: 252.1335672236196\n",
      "dark                                               Score: 249.49663166809864\n",
      "end                                                Score: 248.8271802364379\n",
      "heart                                              Score: 247.46624303154692\n",
      "us                                                 Score: 246.8818722306416\n",
      "night                                              Score: 246.25975360034434\n",
      "mind                                               Score: 246.0125497578327\n"
     ]
    }
   ],
   "source": [
    "metal_w = OrderedDict()\n",
    "scores = zip(tf_idf_Metal.get_feature_names(),np.asarray(M.sum(axis=0)).ravel())\n",
    "sorted_scores = sorted(scores, key=lambda x: x[1], reverse=True)\n",
    "i = 0 \n",
    "for j in range(0,len(sorted_scores)):\n",
    "    if i<30:\n",
    "        metal_w[sorted_scores[j+1][0]] = sorted_scores[j+1][1]\n",
    "        print(\"{0:50} Score: {1}\".format(sorted_scores[j+1][0], sorted_scores[j+1][1]))\n",
    "        i+=1"
   ]
  },
  {
   "cell_type": "code",
   "execution_count": 14,
   "metadata": {
    "collapsed": false
   },
   "outputs": [
    {
     "name": "stdout",
     "output_type": "stream",
     "text": [
      "love                                               Score: 926.1641486892419\n",
      "know                                               Score: 631.4804904990422\n",
      "oh                                                 Score: 541.6806638013667\n",
      "like                                               Score: 490.2407495435594\n",
      "want                                               Score: 464.5622628016766\n",
      "your                                               Score: 447.63405918474217\n",
      "go                                                 Score: 445.2780745212062\n",
      "feel                                               Score: 432.69164542108007\n",
      "let                                                Score: 429.60967683022784\n",
      "time                                               Score: 428.23720543441203\n",
      "never                                              Score: 405.0489457127455\n",
      "one                                                Score: 403.86008169870655\n",
      "get                                                Score: 403.726814684326\n",
      "come                                               Score: 390.294729840745\n",
      "got                                                Score: 381.60484754147075\n",
      "make                                               Score: 380.8387804579014\n",
      "heart                                              Score: 370.4089997442193\n",
      "say                                                Score: 370.29237247172813\n",
      "see                                                Score: 369.15010293163675\n",
      "way                                                Score: 354.4909356299242\n",
      "babi                                               Score: 343.57079509936244\n",
      "take                                               Score: 336.8914687035785\n",
      "need                                               Score: 336.29676275340387\n",
      "caus                                               Score: 334.172062093216\n",
      "you                                                Score: 330.52573893057587\n",
      "yeah                                               Score: 327.88617182048665\n",
      "me                                                 Score: 303.92074807272206\n",
      "day                                                Score: 295.3801199652416\n",
      "life                                               Score: 295.3059075662303\n",
      "girl                                               Score: 293.1455196929574\n"
     ]
    }
   ],
   "source": [
    "pop_w = OrderedDict()\n",
    "scores = zip(tf_idf_Pop.get_feature_names(),np.asarray(P.sum(axis=0)).ravel())\n",
    "sorted_scores = sorted(scores, key=lambda x: x[1], reverse=True)\n",
    "i = 0 \n",
    "for item in sorted_scores:\n",
    "    if i<30:\n",
    "        pop_w[item[0]] = item[1]\n",
    "        print(\"{0:50} Score: {1}\".format(item[0], item[1]))\n",
    "        i+=1"
   ]
  },
  {
   "cell_type": "code",
   "execution_count": 15,
   "metadata": {
    "collapsed": false
   },
   "outputs": [
    {
     "name": "stdout",
     "output_type": "stream",
     "text": [
      "love                                               Score: 619.9903943467071\n",
      "know                                               Score: 577.8796479755854\n",
      "like                                               Score: 457.8498694079228\n",
      "time                                               Score: 448.64441006715043\n",
      "go                                                 Score: 446.53568741525737\n",
      "your                                               Score: 430.856978628813\n",
      "want                                               Score: 428.5192807946662\n",
      "oh                                                 Score: 410.35105963426355\n",
      "one                                                Score: 403.3263734312121\n",
      "get                                                Score: 399.53782693995333\n",
      "never                                              Score: 396.34602488612614\n",
      "come                                               Score: 393.3289037033097\n",
      "see                                                Score: 390.8413104345981\n",
      "got                                                Score: 389.13319510960065\n",
      "feel                                               Score: 366.94177578380135\n",
      "let                                                Score: 359.79570240902217\n",
      "way                                                Score: 355.54054123394354\n",
      "say                                                Score: 352.14723167639124\n",
      "take                                               Score: 340.8453403727992\n",
      "away                                               Score: 331.66340328626126\n",
      "make                                               Score: 328.11754779456476\n",
      "day                                                Score: 313.1846678449277\n",
      "iv                                                 Score: 311.9955184306881\n",
      "back                                               Score: 304.3993973113938\n",
      "life                                               Score: 295.74524242507835\n",
      "look                                               Score: 278.52463057443083\n",
      "yeah                                               Score: 275.90613211571116\n",
      "heart                                              Score: 273.8005968183078\n",
      "gonna                                              Score: 270.895602525811\n",
      "caus                                               Score: 267.36115635181466\n"
     ]
    }
   ],
   "source": [
    "rock_w = OrderedDict()\n",
    "scores = zip(tf_idf_Rock.get_feature_names(),np.asarray(R.sum(axis=0)).ravel())\n",
    "sorted_scores = sorted(scores, key=lambda x: x[1], reverse=True)\n",
    "i = 0 \n",
    "for item in sorted_scores:\n",
    "    if i<30:\n",
    "        rock_w[item[0]] = item[1]\n",
    "        print(\"{0:50} Score: {1}\".format(item[0], item[1]))\n",
    "        i+=1"
   ]
  },
  {
   "cell_type": "markdown",
   "metadata": {},
   "source": [
    "## Normalizing the tf-idf values of top-30 words of each genre"
   ]
  },
  {
   "cell_type": "code",
   "execution_count": 16,
   "metadata": {
    "collapsed": true
   },
   "outputs": [],
   "source": [
    "factor = 1.0/sum(pop_w.values())\n",
    "for k in pop_w:\n",
    "    pop_w[k] = pop_w[k]*factor\n",
    "for k in metal_w:\n",
    "    metal_w[k] = metal_w[k]*factor\n",
    "for k in rock_w:\n",
    "    rock_w[k] = rock_w[k]*factor\n",
    "for k in hip_w:\n",
    "    hip_w[k] = hip_w[k]*factor"
   ]
  },
  {
   "cell_type": "markdown",
   "metadata": {},
   "source": [
    "## Function to find similarity of each song with four different genres using cosing similarity"
   ]
  },
  {
   "cell_type": "code",
   "execution_count": 18,
   "metadata": {
    "collapsed": false
   },
   "outputs": [],
   "source": [
    "def genre_similarity(dr):\n",
    "    tf_idf_features = []\n",
    "    tf_idf = TfidfVectorizer()\n",
    "    for k in range(0,len(dr.lyrics)):\n",
    "            row = []\n",
    "            try:  \n",
    "                tf_idf.fit_transform(dr.lyrics.iloc[k].split(' '))\n",
    "                d = OrderedDict()\n",
    "                scores = zip(tf_idf.get_feature_names(),np.asarray(M.sum(axis=0)).ravel())\n",
    "                sorted_scores = sorted(scores, key=lambda x: x[1], reverse=True)\n",
    "                for item in sorted_scores:\n",
    "                        d[item[0]] = item[1]\n",
    "                #print (len(d))    \n",
    "                factor = 1.0/sum(d.values())\n",
    "                for items in d:\n",
    "                    d[items] = factor*d[items]\n",
    "                #print (\"\\n\\n\\n\")\n",
    "                pop_row = [None] * 30\n",
    "                metal_row = [None] * 30\n",
    "                rock_row = [None] * 30\n",
    "                hip_row = [None] * 30\n",
    "                for i in pop_w:\n",
    "                    if(i in d):\n",
    "                        pop_row[list(pop_w.keys()).index(\"%s\"%i)] = d[i]\n",
    "                    else:\n",
    "                        pop_row[list(pop_w.keys()).index(\"%s\"%i)] = 0\n",
    "                for i in metal_w:\n",
    "                    if(i in d):\n",
    "                        metal_row[list(metal_w.keys()).index(\"%s\"%i)] = d[i]\n",
    "                    else:\n",
    "                        metal_row[list(metal_w.keys()).index(\"%s\"%i)] = 0\n",
    "                for i in rock_w:\n",
    "                    if(i in d):\n",
    "                        rock_row[list(rock_w.keys()).index(\"%s\"%i)] = d[i]\n",
    "                    else:\n",
    "                        rock_row[list(rock_w.keys()).index(\"%s\"%i)] = 0\n",
    "                for i in hip_w:\n",
    "                    if(i in d):\n",
    "                        hip_row[list(hip_w.keys()).index(\"%s\"%i)] = d[i]\n",
    "                    else:\n",
    "                        hip_row[list(hip_w.keys()).index(\"%s\"%i)] = 0\n",
    "                row.append(float(cosine_similarity(list(pop_w.values()),pop_row)))\n",
    "                row.append(float(cosine_similarity(list(rock_w.values()),rock_row)))\n",
    "                row.append(float(cosine_similarity(list(metal_w.values()),metal_row)))\n",
    "                row.append(float(cosine_similarity(list(hip_w.values()),hip_row)))\n",
    "                tf_idf_features.append(row)\n",
    "            except:\n",
    "                row.append(0)\n",
    "                row.append(0)\n",
    "                row.append(0)\n",
    "                row.append(0)\n",
    "                tf_idf_features.append(row)\n",
    "    return tf_idf_features"
   ]
  },
  {
   "cell_type": "markdown",
   "metadata": {},
   "source": [
    "## Finding cosine similarity for songs of each genre using the fuction genre_similarity"
   ]
  },
  {
   "cell_type": "code",
   "execution_count": null,
   "metadata": {
    "collapsed": true
   },
   "outputs": [],
   "source": [
    "pop_s_s = genre_similarity(df_Pop)"
   ]
  },
  {
   "cell_type": "code",
   "execution_count": null,
   "metadata": {
    "collapsed": true
   },
   "outputs": [],
   "source": [
    "metal_s_s = genre_similarity(df_Metal)"
   ]
  },
  {
   "cell_type": "code",
   "execution_count": null,
   "metadata": {
    "collapsed": true
   },
   "outputs": [],
   "source": [
    "rock_s_s = genre_similarity(df_Rock)"
   ]
  },
  {
   "cell_type": "code",
   "execution_count": null,
   "metadata": {
    "collapsed": false
   },
   "outputs": [],
   "source": [
    "hip_s_s = genre_similarity(df_Hip)"
   ]
  },
  {
   "cell_type": "markdown",
   "metadata": {},
   "source": [
    "## Aggregating results"
   ]
  },
  {
   "cell_type": "code",
   "execution_count": null,
   "metadata": {
    "collapsed": true
   },
   "outputs": [],
   "source": [
    "tf_idf_data = hip_s_s + pop_s_s + metal_s_s + rock_s_s"
   ]
  },
  {
   "cell_type": "markdown",
   "metadata": {},
   "source": [
    "## Writing the result to a dataframe"
   ]
  },
  {
   "cell_type": "code",
   "execution_count": null,
   "metadata": {
    "collapsed": true
   },
   "outputs": [],
   "source": [
    "tf_idf_features = pd.DataFrame(tf_idf_data,columns=['pop_similarity','rock_similarity','metal_similarity','hip_hop_similarity'])"
   ]
  },
  {
   "cell_type": "markdown",
   "metadata": {},
   "source": [
    "## Writing the dataframe to a csv"
   ]
  },
  {
   "cell_type": "code",
   "execution_count": null,
   "metadata": {
    "collapsed": true
   },
   "outputs": [],
   "source": [
    "tf_idf_features.to_csv('tf_idf_features_final.csv',index=False)"
   ]
  }
 ],
 "metadata": {
  "anaconda-cloud": {},
  "kernelspec": {
   "display_name": "Python [Root]",
   "language": "python",
   "name": "Python [Root]"
  },
  "language_info": {
   "codemirror_mode": {
    "name": "ipython",
    "version": 3
   },
   "file_extension": ".py",
   "mimetype": "text/x-python",
   "name": "python",
   "nbconvert_exporter": "python",
   "pygments_lexer": "ipython3",
   "version": "3.5.2"
  }
 },
 "nbformat": 4,
 "nbformat_minor": 0
}
