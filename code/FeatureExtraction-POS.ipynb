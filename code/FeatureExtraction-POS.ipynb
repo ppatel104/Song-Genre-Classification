{
 "cells": [
  {
   "cell_type": "markdown",
   "metadata": {
    "collapsed": true
   },
   "source": [
    "# Code For Feature Extraction. This code is used to extract Pos Tags for every song and store it in a file which can be used later for model fitting."
   ]
  },
  {
   "cell_type": "code",
   "execution_count": null,
   "metadata": {
    "collapsed": true
   },
   "outputs": [],
   "source": [
    "import pandas as pd\n",
    "import nltk\n",
    "import numpy as np\n",
    "songs = pd.read_csv('Data/final_data.csv')\n",
    "#songs=songs.sample(frac=0.1)"
   ]
  },
  {
   "cell_type": "markdown",
   "metadata": {},
   "source": [
    "Extracting the tags from all the lyrics of a particular genre"
   ]
  },
  {
   "cell_type": "code",
   "execution_count": null,
   "metadata": {},
   "outputs": [],
   "source": [
    "HipHop = songs[songs['genre']=='Hip-Hop'] #Change Value of Genre to genrate POS Tags for different Genres\n",
    "LyricsHipHop=list(HipHop.lyrics)\n",
    "corpus=(LyricsHipHop)\n",
    "print(len(corpus))\n",
    "tags=[]\n",
    "for i in range(0,len(corpus)):\n",
    "    text = nltk.word_tokenize(corpus[i])\n",
    "    tags.append(nltk.pos_tag(text))\n",
    "print(len(tags))"
   ]
  },
  {
   "cell_type": "code",
   "execution_count": null,
   "metadata": {
    "collapsed": true
   },
   "outputs": [],
   "source": [
    "tg=tags"
   ]
  },
  {
   "cell_type": "markdown",
   "metadata": {},
   "source": [
    "Cuunting the number of tags in each instance"
   ]
  },
  {
   "cell_type": "code",
   "execution_count": null,
   "metadata": {},
   "outputs": [],
   "source": [
    "from collections import Counter\n",
    "from collections import defaultdict\n",
    "z=[]\n",
    "# tokenizer = RegexpTokenizer(r'\\w+')\n",
    "\n",
    "for i in range(0, len(tg)):\n",
    "    counts=Counter(tag for word,tag in tg[i])\n",
    "    z.append(dict(counts))\n",
    "PosTags = defaultdict(int)\n",
    "for i in range (0,len(z)):\n",
    "    PosTags[i] = z[i]\n",
    "print((len(PosTags)))"
   ]
  },
  {
   "cell_type": "markdown",
   "metadata": {},
   "source": [
    "Making a Data frame of POS tags and saving it to a file"
   ]
  },
  {
   "cell_type": "code",
   "execution_count": null,
   "metadata": {},
   "outputs": [],
   "source": [
    "dt=pd.DataFrame.from_dict(PosTags, orient=\"index\")\n",
    "dt"
   ]
  },
  {
   "cell_type": "code",
   "execution_count": null,
   "metadata": {
    "collapsed": true
   },
   "outputs": [],
   "source": [
    "dt.to_csv(\"PosTagsRock.csv\")"
   ]
  }
 ],
 "metadata": {
  "kernelspec": {
   "display_name": "Python 3",
   "language": "python",
   "name": "python3"
  },
  "language_info": {
   "codemirror_mode": {
    "name": "ipython",
    "version": 3
   },
   "file_extension": ".py",
   "mimetype": "text/x-python",
   "name": "python",
   "nbconvert_exporter": "python",
   "pygments_lexer": "ipython3",
   "version": "3.5.3"
  }
 },
 "nbformat": 4,
 "nbformat_minor": 2
}
