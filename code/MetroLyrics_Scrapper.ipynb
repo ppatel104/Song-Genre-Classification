{
 "cells": [
  {
   "cell_type": "code",
   "execution_count": 78,
   "metadata": {
    "collapsed": true
   },
   "outputs": [],
   "source": [
    "import requests"
   ]
  },
  {
   "cell_type": "code",
   "execution_count": 79,
   "metadata": {
    "collapsed": true
   },
   "outputs": [],
   "source": [
    "from bs4 import BeautifulSoup"
   ]
  },
  {
   "cell_type": "code",
   "execution_count": 80,
   "metadata": {
    "collapsed": false
   },
   "outputs": [],
   "source": [
    "page = requests.get(\"http://www.metrolyrics.com/artists-1.html\")"
   ]
  },
  {
   "cell_type": "code",
   "execution_count": 81,
   "metadata": {
    "collapsed": true
   },
   "outputs": [],
   "source": [
    "soup = BeautifulSoup(page.content,'html.parser')"
   ]
  },
  {
   "cell_type": "code",
   "execution_count": 82,
   "metadata": {
    "collapsed": false
   },
   "outputs": [],
   "source": [
    "page_link = []\n",
    "page_link.append(\"http://www.metrolyrics.com/artists-1.html\")\n",
    "p = True\n",
    "while p:\n",
    "    p_link = soup.find(class_='pagination')\n",
    "    try:\n",
    "        li = p_link.find_all('a')[-1].get('href')\n",
    "    except:\n",
    "        break\n",
    "    try:\n",
    "        page = requests.get(li)\n",
    "        soup = BeautifulSoup(page.content,'html.parser')\n",
    "        page_link.append(li)\n",
    "    except:\n",
    "        break"
   ]
  },
  {
   "cell_type": "code",
   "execution_count": 83,
   "metadata": {
    "collapsed": false
   },
   "outputs": [],
   "source": [
    "data = []\n",
    "for i in page_link:\n",
    "    page = requests.get(\"%s\"%i)\n",
    "    soup = BeautifulSoup(page.content,'html.parser')\n",
    "    song_data = soup.find(class_='songs-table')\n",
    "    tbodys = song_data.find('tbody')\n",
    "    for i in tbodys.find_all('tr'):\n",
    "        data.append(tuple([i.find('td').find('a').get('href'),i.find('td').find('a').get_text().replace(\" Lyrics\",\"\"),i.find_all('td')[-2].get_text()]))"
   ]
  },
  {
   "cell_type": "code",
   "execution_count": 84,
   "metadata": {
    "collapsed": false
   },
   "outputs": [],
   "source": [
    "new_data = []\n",
    "for i in data:\n",
    "    if(i[2]!='Other' and i[2]!=''):\n",
    "        new_data.append(i)"
   ]
  },
  {
   "cell_type": "code",
   "execution_count": 85,
   "metadata": {
    "collapsed": false
   },
   "outputs": [
    {
     "data": {
      "text/plain": [
       "Counter({'Country': 2,\n",
       "         'Electronic': 27,\n",
       "         'Folk': 3,\n",
       "         'Hip-Hop': 60,\n",
       "         'Indie': 4,\n",
       "         'Jazz': 2,\n",
       "         'Metal': 13,\n",
       "         'Pop': 53,\n",
       "         'R&B': 10,\n",
       "         'Rock': 97})"
      ]
     },
     "execution_count": 85,
     "metadata": {},
     "output_type": "execute_result"
    }
   ],
   "source": [
    "from collections import Counter\n",
    "c = Counter()\n",
    "li = []\n",
    "for i in new_data:\n",
    "    li.append(i[2])\n",
    "c.update(li)\n",
    "c"
   ]
  },
  {
   "cell_type": "code",
   "execution_count": 86,
   "metadata": {
    "collapsed": true
   },
   "outputs": [],
   "source": [
    "data = []\n",
    "for i in new_data:\n",
    "    if(i[2] in ['Hip-Hop','Pop','Rock','Electronic','Metal','R&B']):\n",
    "        data.append(i)"
   ]
  },
  {
   "cell_type": "code",
   "execution_count": 97,
   "metadata": {
    "collapsed": false
   },
   "outputs": [
    {
     "name": "stdout",
     "output_type": "stream",
     "text": [
      "('http://www.metrolyrics.com/6cyclemind-lyrics.html', '6cyclemind', 'Rock')\n",
      "('http://www.metrolyrics.com/69-boyz-lyrics.html', '69 Boyz', 'Hip-Hop')\n",
      "('http://www.metrolyrics.com/2-chainz-lyrics.html', '2 Chainz', 'Hip-Hop')\n",
      "('http://www.metrolyrics.com/6lack-lyrics.html', '6LACK', 'Hip-Hop')\n",
      "('http://www.metrolyrics.com/2-live-crew-lyrics.html', '2 Live Crew', 'Hip-Hop')\n",
      "('http://www.metrolyrics.com/311-lyrics.html', '311', 'Rock')\n",
      "('http://www.metrolyrics.com/10000-maniacs-lyrics.html', '10,000 Maniacs', 'Rock')\n",
      "('http://www.metrolyrics.com/911-lyrics.html', '911', 'Pop')\n",
      "('http://www.metrolyrics.com/21-savage-lyrics.html', '21 Savage', 'Hip-Hop')\n",
      "('http://www.metrolyrics.com/10-cc-lyrics.html', '10 Cc', 'Rock')\n",
      "('http://www.metrolyrics.com/98-degrees-lyrics.html', '98 Degrees', 'Pop')\n",
      "('http://www.metrolyrics.com/5th-dimension-lyrics.html', '5th Dimension', 'Pop')\n",
      "('http://www.metrolyrics.com/10-years-lyrics.html', '10 Years', 'Rock')\n",
      "('http://www.metrolyrics.com/1000mods-lyrics.html', '1000Mods', 'Rock')\n",
      "('http://www.metrolyrics.com/38-special-lyrics.html', '38 Special', 'Rock')\n",
      "('http://www.metrolyrics.com/112-lyrics.html', '112', 'Hip-Hop')\n",
      "('http://www.metrolyrics.com/3oh3-lyrics.html', '3OH!3', 'Pop')\n",
      "('http://www.metrolyrics.com/4-him-lyrics.html', '4 Him', 'Pop')\n",
      "('http://www.metrolyrics.com/20-fingers-lyrics.html', '20 Fingers', 'Pop')\n",
      "('http://www.metrolyrics.com/2ne1-lyrics.html', '2NE1', 'Pop')\n",
      "('http://www.metrolyrics.com/1974-ad-lyrics.html', '1974 AD', 'Rock')\n",
      "('http://www.metrolyrics.com/2-unlimited-lyrics.html', '2 Unlimited', 'Electronic')\n",
      "('http://www.metrolyrics.com/4-pm-lyrics.html', '4 P.M.', 'Pop')\n",
      "('http://www.metrolyrics.com/1st-lady-lyrics.html', '1st Lady', 'Pop')\n",
      "('http://www.metrolyrics.com/16-horsepower-lyrics.html', '16 Horsepower', 'Rock')\n",
      "('http://www.metrolyrics.com/3lau-lyrics.html', '3LAU', 'Electronic')\n",
      "('http://www.metrolyrics.com/3t-lyrics.html', '3T', 'Pop')\n",
      "('http://www.metrolyrics.com/1910-fruitgum-company-lyrics.html', '1910 Fruitgum Company', 'Pop')\n",
      "('http://www.metrolyrics.com/360-lyrics.html', '360', 'Hip-Hop')\n",
      "('http://www.metrolyrics.com/702-lyrics.html', '702', 'Pop')\n",
      "('http://www.metrolyrics.com/2-brothers-on-the-4th-floor-lyrics.html', '2 Brothers On The 4th Floor', 'Electronic')\n",
      "('http://www.metrolyrics.com/24hrs-lyrics.html', '24hrs', 'R&B')\n",
      "('http://www.metrolyrics.com/7-seconds-lyrics.html', '7 Seconds', 'R&B')\n",
      "('http://www.metrolyrics.com/12-stones-lyrics.html', '12 Stones', 'Rock')\n",
      "('http://www.metrolyrics.com/4-strings-lyrics.html', '4 Strings', 'Electronic')\n",
      "('http://www.metrolyrics.com/10-cc-lyrics.html', '10 Cc', 'Rock')\n",
      "('http://www.metrolyrics.com/10000-maniacs-lyrics.html', '10,000 Maniacs', 'Rock')\n",
      "('http://www.metrolyrics.com/112-lyrics.html', '112', 'Hip-Hop')\n",
      "('http://www.metrolyrics.com/12-stones-lyrics.html', '12 Stones', 'Rock')\n",
      "('http://www.metrolyrics.com/13-engines-lyrics.html', '13 Engines', 'Rock')\n",
      "('http://www.metrolyrics.com/14-bis-lyrics.html', '14 Bis', 'Rock')\n",
      "('http://www.metrolyrics.com/16-bit-lyrics.html', '16 Bit', 'Electronic')\n",
      "('http://www.metrolyrics.com/16-horsepower-lyrics.html', '16 Horsepower', 'Rock')\n",
      "('http://www.metrolyrics.com/16volt-lyrics.html', '16volt', 'Rock')\n",
      "('http://www.metrolyrics.com/1910-fruitgum-company-lyrics.html', '1910 Fruitgum Company', 'Pop')\n",
      "('http://www.metrolyrics.com/2-4-family-lyrics.html', '2 4 Family', 'Pop')\n",
      "('http://www.metrolyrics.com/2-be-3-lyrics.html', '2 Be 3', 'Metal')\n",
      "('http://www.metrolyrics.com/2-brothers-on-the-4th-floor-lyrics.html', '2 Brothers On The 4th Floor', 'Electronic')\n",
      "('http://www.metrolyrics.com/2-fabiola-lyrics.html', '2 Fabiola', 'Electronic')\n",
      "('http://www.metrolyrics.com/2-for-good-lyrics.html', '2 For Good', 'Electronic')\n",
      "('http://www.metrolyrics.com/2-live-crew-lyrics.html', '2 Live Crew', 'Hip-Hop')\n",
      "('http://www.metrolyrics.com/2-live-jews-lyrics.html', '2 Live Jews', 'Hip-Hop')\n",
      "('http://www.metrolyrics.com/2-shy-lyrics.html', '2 Shy', 'Pop')\n",
      "('http://www.metrolyrics.com/2-skinnee-js-lyrics.html', '2 Skinnee Js', 'Rock')\n",
      "('http://www.metrolyrics.com/2-unlimited-lyrics.html', '2 Unlimited', 'Electronic')\n",
      "('http://www.metrolyrics.com/20-fingers-lyrics.html', '20 Fingers', 'Pop')\n",
      "('http://www.metrolyrics.com/28-days-lyrics.html', '28 Days', 'Rock')\n",
      "('http://www.metrolyrics.com/2gether-lyrics.html', '2gether', 'Pop')\n",
      "('http://www.metrolyrics.com/2pac-lyrics.html', '2Pac', 'Hip-Hop')\n",
      "('http://www.metrolyrics.com/3-colours-red-lyrics.html', '3 Colours Red', 'Rock')\n",
      "('http://www.metrolyrics.com/3-doors-down-lyrics.html', '3 Doors Down', 'Rock')\n",
      "('http://www.metrolyrics.com/3-o-matic-lyrics.html', '3-O-Matic', 'Electronic')\n",
      "('http://www.metrolyrics.com/3-generation-lyrics.html', '3. Generation', 'Rock')\n",
      "('http://www.metrolyrics.com/311-lyrics.html', '311', 'Rock')\n",
      "('http://www.metrolyrics.com/38-special-lyrics.html', '38 Special', 'Rock')\n",
      "('http://www.metrolyrics.com/3gs-lyrics.html', \"3G's\", 'Pop')\n",
      "('http://www.metrolyrics.com/3lw-lyrics.html', '3LW', 'Pop')\n",
      "('http://www.metrolyrics.com/3rd-faze-lyrics.html', '3rd Faze', 'Pop')\n",
      "('http://www.metrolyrics.com/3t-lyrics.html', '3T', 'Pop')\n",
      "('http://www.metrolyrics.com/4-him-lyrics.html', '4 Him', 'Pop')\n",
      "('http://www.metrolyrics.com/4-non-blondes-lyrics.html', '4 Non Blondes', 'Rock')\n",
      "('http://www.metrolyrics.com/4-pm-lyrics.html', '4 P.M.', 'Pop')\n",
      "('http://www.metrolyrics.com/4-strings-lyrics.html', '4 Strings', 'Electronic')\n",
      "('http://www.metrolyrics.com/4-the-cause-lyrics.html', '4 The Cause', 'Pop')\n",
      "('http://www.metrolyrics.com/40-below-summer-lyrics.html', '40 Below Summer', 'Rock')\n",
      "('http://www.metrolyrics.com/45-grave-lyrics.html', '45 Grave', 'Rock')\n",
      "('http://www.metrolyrics.com/4lyn-lyrics.html', '4Lyn', 'Rock')\n",
      "('http://www.metrolyrics.com/5-sterne-deluxe-lyrics.html', '5 Sterne Deluxe', 'Hip-Hop')\n",
      "('http://www.metrolyrics.com/50-cent-lyrics.html', '50 Cent', 'Hip-Hop')\n",
      "('http://www.metrolyrics.com/5000-volts-lyrics.html', '5000 Volts', 'Pop')\n",
      "('http://www.metrolyrics.com/504-boyz-lyrics.html', '504 Boyz', 'Hip-Hop')\n",
      "('http://www.metrolyrics.com/54-40-lyrics.html', '54-40', 'Rock')\n",
      "('http://www.metrolyrics.com/5ive-lyrics.html', '5ive', 'Metal')\n",
      "('http://www.metrolyrics.com/5th-dimension-lyrics.html', '5th Dimension', 'Pop')\n",
      "('http://www.metrolyrics.com/666-lyrics.html', '666', 'Metal')\n",
      "('http://www.metrolyrics.com/69-boyz-lyrics.html', '69 Boyz', 'Hip-Hop')\n",
      "('http://www.metrolyrics.com/7-mary-3-lyrics.html', '7 Mary 3', 'Rock')\n",
      "('http://www.metrolyrics.com/7-seconds-lyrics.html', '7 Seconds', 'R&B')\n",
      "('http://www.metrolyrics.com/702-lyrics.html', '702', 'Pop')\n",
      "('http://www.metrolyrics.com/77s-lyrics.html', '77s', 'Rock')\n",
      "('http://www.metrolyrics.com/8-ball-lyrics.html', '8 Ball', 'Hip-Hop')\n",
      "('http://www.metrolyrics.com/8-stops-7-lyrics.html', '8 Stops 7', 'Rock')\n",
      "('http://www.metrolyrics.com/88-fingers-loui-lyrics.html', '88 Fingers Loui', 'Rock')\n",
      "('http://www.metrolyrics.com/883-lyrics.html', '883', 'Rock')\n",
      "('http://www.metrolyrics.com/9-days-lyrics.html', '9 Days', 'Rock')\n",
      "('http://www.metrolyrics.com/911-lyrics.html', '911', 'Pop')\n",
      "('http://www.metrolyrics.com/98-degrees-lyrics.html', '98 Degrees', 'Pop')\n",
      "('http://www.metrolyrics.com/9811-lyrics.html', '9811', 'Rock')\n",
      "('http://www.metrolyrics.com/3-elements-lyrics.html', '3 Elements', 'Electronic')\n",
      "('http://www.metrolyrics.com/33miles-lyrics.html', '33Miles', 'Rock')\n",
      "('http://www.metrolyrics.com/38th-parallel-lyrics.html', '38th Parallel', 'Rock')\n",
      "('http://www.metrolyrics.com/7-year-bitch-lyrics.html', '7 Year Bitch', 'Rock')\n",
      "('http://www.metrolyrics.com/4-clubbers-lyrics.html', '4 Clubbers', 'Electronic')\n",
      "('http://www.metrolyrics.com/3dl-lyrics.html', '3DL', 'Rock')\n",
      "('http://www.metrolyrics.com/22-20s-lyrics.html', '22-20s', 'Rock')\n",
      "('http://www.metrolyrics.com/10-years-lyrics.html', '10 Years', 'Rock')\n",
      "('http://www.metrolyrics.com/36-crazyfists-lyrics.html', '36 Crazyfists', 'Metal')\n",
      "('http://www.metrolyrics.com/16-frames-lyrics.html', '16 Frames', 'Rock')\n",
      "('http://www.metrolyrics.com/213-lyrics.html', '213', 'Hip-Hop')\n",
      "('http://www.metrolyrics.com/30-seconds-to-mars-lyrics.html', '30 Seconds to Mars', 'Rock')\n",
      "('http://www.metrolyrics.com/2pac-outlawz-lyrics.html', '2Pac & Outlawz', 'Hip-Hop')\n",
      "('http://www.metrolyrics.com/21-guns-lyrics.html', '21 Guns', 'Rock')\n",
      "('http://www.metrolyrics.com/6cyclemind-lyrics.html', '6cyclemind', 'Rock')\n",
      "('http://www.metrolyrics.com/2contra1-lyrics.html', '2contra1', 'Rock')\n",
      "('http://www.metrolyrics.com/8mm-lyrics.html', '8mm', 'Electronic')\n",
      "('http://www.metrolyrics.com/707-lyrics.html', '707', 'Rock')\n",
      "('http://www.metrolyrics.com/1997-lyrics.html', '1997', 'Rock')\n",
      "('http://www.metrolyrics.com/50-foot-wave-lyrics.html', '50 Foot Wave', 'Rock')\n",
      "('http://www.metrolyrics.com/2-pistols-lyrics.html', '2 Pistols', 'Hip-Hop')\n",
      "('http://www.metrolyrics.com/3oh3-lyrics.html', '3OH!3', 'Pop')\n",
      "('http://www.metrolyrics.com/55-escape-lyrics.html', '55 Escape', 'Rock')\n",
      "('http://www.metrolyrics.com/30h3-lyrics.html', '30H3', 'Hip-Hop')\n",
      "('http://www.metrolyrics.com/1974-ad-lyrics.html', '1974 AD', 'Rock')\n",
      "('http://www.metrolyrics.com/1-800-zombie-lyrics.html', '1-800-Zombie', 'Electronic')\n",
      "('http://www.metrolyrics.com/7-profitz-lyrics.html', '7 Profitz', 'Hip-Hop')\n",
      "('http://www.metrolyrics.com/2ne1-lyrics.html', '2NE1', 'Pop')\n",
      "('http://www.metrolyrics.com/100-monkeys-lyrics.html', '100 Monkeys', 'Rock')\n",
      "('http://www.metrolyrics.com/78-violet-lyrics.html', '78 Violet', 'Rock')\n",
      "('http://www.metrolyrics.com/2pm-lyrics.html', '2PM', 'Pop')\n",
      "('http://www.metrolyrics.com/7-days-away-lyrics.html', '7 Days Away', 'Rock')\n",
      "('http://www.metrolyrics.com/2nei-lyrics.html', '2NEI', 'Pop')\n",
      "('http://www.metrolyrics.com/2am-club-lyrics.html', '2am Club', 'Rock')\n",
      "('http://www.metrolyrics.com/2merica-lyrics.html', '2MERICA', 'Electronic')\n",
      "('http://www.metrolyrics.com/2much-lyrics.html', '2Much', 'Hip-Hop')\n",
      "('http://www.metrolyrics.com/1982-lyrics.html', '1982', 'Hip-Hop')\n",
      "('http://www.metrolyrics.com/2g-lyrics.html', '2G', 'Hip-Hop')\n",
      "('http://www.metrolyrics.com/40-cal-lyrics.html', '40 Cal', 'Hip-Hop')\n",
      "('http://www.metrolyrics.com/31st-century-lyrics.html', '31st Century', 'Hip-Hop')\n",
      "('http://www.metrolyrics.com/40-glocc-lyrics.html', '40 Glocc', 'Hip-Hop')\n",
      "('http://www.metrolyrics.com/50-lions-lyrics.html', '50 Lions', 'Rock')\n",
      "('http://www.metrolyrics.com/30-dirty-thoughts-lyrics.html', '30 Dirty Thoughts', 'R&B')\n",
      "('http://www.metrolyrics.com/718-lyrics.html', '718', 'Electronic')\n",
      "('http://www.metrolyrics.com/009-sound-system-lyrics.html', '009 sound system', 'Pop')\n",
      "('http://www.metrolyrics.com/9mm-parabellum-bullet-lyrics.html', '9mm Parabellum Bullet', 'Rock')\n",
      "('http://www.metrolyrics.com/6ixth-sense-lyrics.html', '6ixth Sense', 'Rock')\n",
      "('http://www.metrolyrics.com/4minute-lyrics.html', '4minute', 'Pop')\n",
      "('http://www.metrolyrics.com/49-stones-lyrics.html', '49 Stones', 'Rock')\n",
      "('http://www.metrolyrics.com/3-inches-of-blood-lyrics.html', '3 Inches of Blood', 'Metal')\n",
      "('http://www.metrolyrics.com/3lau-lyrics.html', '3LAU', 'Electronic')\n",
      "('http://www.metrolyrics.com/2-be-continuum-lyrics.html', '2 Be Continuum', 'Rock')\n",
      "('http://www.metrolyrics.com/9th-wonder-lyrics.html', '9th Wonder', 'Hip-Hop')\n",
      "('http://www.metrolyrics.com/2-chainz-lyrics.html', '2 Chainz', 'Hip-Hop')\n",
      "('http://www.metrolyrics.com/5dolls-lyrics.html', '5Dolls', 'Pop')\n",
      "('http://www.metrolyrics.com/8-foot-sativa-lyrics.html', '8 Foot Sativa', 'Metal')\n",
      "('http://www.metrolyrics.com/211-lyrics.html', '211', 'Rock')\n",
      "('http://www.metrolyrics.com/4real-lyrics.html', '4Real', 'Hip-Hop')\n",
      "('http://www.metrolyrics.com/2win-lyrics.html', '2Win', 'Hip-Hop')\n",
      "('http://www.metrolyrics.com/254-lyrics.html', '2:54', 'Rock')\n",
      "('http://www.metrolyrics.com/2-bears-lyrics.html', '2 Bears', 'Electronic')\n",
      "('http://www.metrolyrics.com/360-lyrics.html', '360', 'Hip-Hop')\n",
      "('http://www.metrolyrics.com/2am-lyrics.html', '2AM', 'Pop')\n",
      "('http://www.metrolyrics.com/4arm-lyrics.html', '4ARM', 'Metal')\n",
      "('http://www.metrolyrics.com/1st-lady-lyrics.html', '1st Lady', 'Pop')\n",
      "('http://www.metrolyrics.com/1982-termanology-and-statik-selektah-lyrics.html', '1982 (Termanology And Statik Selektah)', 'Hip-Hop')\n",
      "('http://www.metrolyrics.com/2bic-lyrics.html', '2BiC', 'Pop')\n",
      "('http://www.metrolyrics.com/10cm-lyrics.html', '10cm', 'Rock')\n",
      "('http://www.metrolyrics.com/24k-lyrics.html', '24K', 'Rock')\n",
      "('http://www.metrolyrics.com/3ballmty-lyrics.html', '3BallMTY', 'Electronic')\n",
      "('http://www.metrolyrics.com/2cellos-sulic-hauser-lyrics.html', '2Cellos (Sulic & Hauser)', 'Rock')\n",
      "('http://www.metrolyrics.com/40-sons-lyrics.html', '40 Sons', 'Rock')\n",
      "('http://www.metrolyrics.com/10digits-lyrics.html', '10Digits', 'Pop')\n",
      "('http://www.metrolyrics.com/30y-lyrics.html', '30Y', 'Rock')\n",
      "('http://www.metrolyrics.com/5-seconds-of-summer-lyrics.html', '5 Seconds Of Summer', 'Pop')\n",
      "('http://www.metrolyrics.com/5-mic-z-lyrics.html', '5 mIc-Z', 'Hip-Hop')\n",
      "('http://www.metrolyrics.com/22-pistepirkko-lyrics.html', '22-Pistepirkko', 'Rock')\n",
      "('http://www.metrolyrics.com/2cellos-lyrics.html', '2CELLOS', 'Rock')\n",
      "('http://www.metrolyrics.com/8ightball-lyrics.html', '8ightball', 'Hip-Hop')\n",
      "('http://www.metrolyrics.com/3-years-hollow-lyrics.html', '3 Years Hollow', 'Rock')\n",
      "('http://www.metrolyrics.com/650-north-lyrics.html', '650 north', 'Rock')\n",
      "('http://www.metrolyrics.com/1000mods-lyrics.html', '1000Mods', 'Rock')\n",
      "('http://www.metrolyrics.com/3rd-lyrics.html', '3rd', 'Metal')\n",
      "('http://www.metrolyrics.com/4th-pyramid-lyrics.html', '4th Pyramid', 'Hip-Hop')\n",
      "('http://www.metrolyrics.com/4ever-lyrics.html', '4ever', 'Electronic')\n",
      "('http://www.metrolyrics.com/13-winters-lyrics.html', '13 Winters', 'Metal')\n",
      "('http://www.metrolyrics.com/3-days-drunk-lyrics.html', '3 Days Drunk', 'Rock')\n",
      "('http://www.metrolyrics.com/7eventh-time-down-lyrics.html', '7eventh Time Down', 'Rock')\n",
      "('http://www.metrolyrics.com/4-skins-lyrics.html', '4-Skins', 'R&B')\n",
      "('http://www.metrolyrics.com/9nine-lyrics.html', '9nine', 'Pop')\n",
      "('http://www.metrolyrics.com/7-days-of-funk-lyrics.html', '7 Days of Funk', 'Hip-Hop')\n",
      "('http://www.metrolyrics.com/2-chainz-wiz-khalifa-lyrics.html', '2 Chainz & Wiz Khalifa', 'Hip-Hop')\n",
      "('http://www.metrolyrics.com/7-lyrics.html', '7!!', 'Pop')\n",
      "('http://www.metrolyrics.com/1814-lyrics.html', '1814', 'Pop')\n",
      "('http://www.metrolyrics.com/765pro-allstars-lyrics.html', '765PRO ALLSTARS', 'Pop')\n",
      "('http://www.metrolyrics.com/5th-avenue-lyrics.html', '5th Avenue', 'Rock')\n",
      "('http://www.metrolyrics.com/3d-lyrics.html', '3D', 'Hip-Hop')\n",
      "('http://www.metrolyrics.com/3plusss-lyrics.html', '3Plusss', 'Hip-Hop')\n",
      "('http://www.metrolyrics.com/2-piece-lyrics.html', '2 Piece', 'Hip-Hop')\n",
      "('http://www.metrolyrics.com/28-north-lyrics.html', '28 North', 'Rock')\n",
      "('http://www.metrolyrics.com/7horse-lyrics.html', '7horse', 'Rock')\n",
      "('http://www.metrolyrics.com/047-lyrics.html', '047', 'Pop')\n",
      "('http://www.metrolyrics.com/100-demons-lyrics.html', '100 Demons', 'Metal')\n",
      "('http://www.metrolyrics.com/8utterfly-lyrics.html', '8utterfly', 'Pop')\n",
      "('http://www.metrolyrics.com/99-posse-lyrics.html', '99 Posse', 'Hip-Hop')\n",
      "('http://www.metrolyrics.com/84-lyrics.html', '84', 'Rock')\n",
      "('http://www.metrolyrics.com/5678s-lyrics.html', \"5.6.7.8's\", 'Rock')\n",
      "('http://www.metrolyrics.com/1987-lyrics.html', '1987', 'Electronic')\n",
      "('http://www.metrolyrics.com/999-lyrics.html', '999', 'R&B')\n",
      "('http://www.metrolyrics.com/1349-lyrics.html', '1349', 'Metal')\n",
      "('http://www.metrolyrics.com/3rdeyegirl-lyrics.html', '3RDEYEGIRL', 'Rock')\n",
      "('http://www.metrolyrics.com/1984-lyrics.html', '1984', 'R&B')\n",
      "('http://www.metrolyrics.com/6th-borough-project-lyrics.html', '6th Borough Project', 'Electronic')\n",
      "('http://www.metrolyrics.com/3lau-nom-de-strip-lyrics.html', '3LAU & Nom De Strip', 'Electronic')\n",
      "('http://www.metrolyrics.com/9west-lyrics.html', '9west', 'Electronic')\n",
      "('http://www.metrolyrics.com/18-lyrics.html', '18+', 'Hip-Hop')\n",
      "('http://www.metrolyrics.com/18-summers-lyrics.html', '18 Summers', 'Pop')\n",
      "('http://www.metrolyrics.com/9muses-lyrics.html', '9MUSES', 'Pop')\n",
      "('http://www.metrolyrics.com/104-lyrics.html', '104', 'Rock')\n",
      "('http://www.metrolyrics.com/801-lyrics.html', '801', 'Rock')\n",
      "('http://www.metrolyrics.com/40winks-lyrics.html', '40Winks', 'Hip-Hop')\n",
      "('http://www.metrolyrics.com/04-limited-sazabys-lyrics.html', '04 Limited Sazabys', 'Rock')\n",
      "('http://www.metrolyrics.com/18th-dye-lyrics.html', '18th Dye', 'Rock')\n",
      "('http://www.metrolyrics.com/99-souls-lyrics.html', '99 Souls', 'Electronic')\n",
      "('http://www.metrolyrics.com/21-savage-lyrics.html', '21 Savage', 'Hip-Hop')\n",
      "('http://www.metrolyrics.com/4th-impact-lyrics.html', '4th Impact', 'Pop')\n",
      "('http://www.metrolyrics.com/67-lyrics.html', '67', 'Hip-Hop')\n",
      "('http://www.metrolyrics.com/600breezy-lyrics.html', '600Breezy', 'Hip-Hop')\n",
      "('http://www.metrolyrics.com/2l8-lyrics.html', '2L8', 'Rock')\n",
      "('http://www.metrolyrics.com/60-east-lyrics.html', '60 East', 'Hip-Hop')\n",
      "('http://www.metrolyrics.com/16-lyrics.html', '16', 'Metal')\n",
      "('http://www.metrolyrics.com/9mm-lyrics.html', '9MM', 'R&B')\n",
      "('http://www.metrolyrics.com/65daysofstatic-lyrics.html', '65daysofstatic', 'Rock')\n",
      "('http://www.metrolyrics.com/10-feet-lyrics.html', '10-FEET', 'Rock')\n",
      "('http://www.metrolyrics.com/24hrs-lyrics.html', '24hrs', 'R&B')\n",
      "('http://www.metrolyrics.com/3d-in-your-face-lyrics.html', '3D In Your Face', 'Rock')\n",
      "('http://www.metrolyrics.com/12am-lyrics.html', '12AM', 'Rock')\n",
      "('http://www.metrolyrics.com/3-pill-morning-lyrics.html', '3 Pill Morning', 'Rock')\n",
      "('http://www.metrolyrics.com/704-lyrics.html', '704', 'Hip-Hop')\n",
      "('http://www.metrolyrics.com/9electric-lyrics.html', '9Electric', 'Rock')\n",
      "('http://www.metrolyrics.com/257ers-lyrics.html', '257ers', 'Hip-Hop')\n",
      "('http://www.metrolyrics.com/44g-lyrics.html', '44G', 'Hip-Hop')\n",
      "('http://www.metrolyrics.com/6am-lyrics.html', '6AM', 'Rock')\n",
      "('http://www.metrolyrics.com/25-ta-life-lyrics.html', '25 Ta Life', 'R&B')\n",
      "('http://www.metrolyrics.com/199x-lyrics.html', '199X', 'Electronic')\n",
      "('http://www.metrolyrics.com/6lack-lyrics.html', '6LACK', 'Hip-Hop')\n",
      "('http://www.metrolyrics.com/1000volts-lyrics.html', '1000volts', 'Hip-Hop')\n",
      "('http://www.metrolyrics.com/22-savage-lyrics.html', '22 Savage', 'Hip-Hop')\n",
      "('http://www.metrolyrics.com/070-shake-lyrics.html', '070 Shake', 'Hip-Hop')\n",
      "('http://www.metrolyrics.com/1111-lyrics.html', '11:11', 'Metal')\n",
      "('http://www.metrolyrics.com/2nb-lyrics.html', '2NB', 'Pop')\n",
      "('http://www.metrolyrics.com/931blackboy-lyrics.html', '931BlackBoy', 'Hip-Hop')\n",
      "('http://www.metrolyrics.com/888-lyrics.html', '888', 'Rock')\n",
      "('http://www.metrolyrics.com/23-savage-lyrics.html', '23 Savage', 'Hip-Hop')\n",
      "('http://www.metrolyrics.com/75-dollar-bill-lyrics.html', '75 Dollar Bill', 'Rock')\n",
      "('http://www.metrolyrics.com/3rd-bass-lyrics.html', '3rd Bass', 'Hip-Hop')\n",
      "('http://www.metrolyrics.com/32-leaves-lyrics.html', '32 Leaves', 'Rock')\n",
      "('http://www.metrolyrics.com/12-rounds-lyrics.html', '12 Rounds', 'Rock')\n",
      "('http://www.metrolyrics.com/2raumwohnung-lyrics.html', '2raumwohnung', 'Pop')\n",
      "('http://www.metrolyrics.com/411-lyrics.html', '411', 'Pop')\n",
      "('http://www.metrolyrics.com/2nd-ii-none-lyrics.html', '2nd II None', 'Hip-Hop')\n",
      "('http://www.metrolyrics.com/4th-avenue-jones-lyrics.html', '4th Avenue Jones', 'Hip-Hop')\n"
     ]
    }
   ],
   "source": [
    "for i in data:\n",
    "    print (i)"
   ]
  },
  {
   "cell_type": "code",
   "execution_count": 89,
   "metadata": {
    "collapsed": false
   },
   "outputs": [],
   "source": [
    "song_data = []\n",
    "for i in range(0,5):\n",
    "    page = requests.get(data[i][0])\n",
    "    soup = BeautifulSoup(page.content,'html.parser')\n",
    "    table = soup.find(class_='songs-table compact')\n",
    "    t_body = table.find('tbody')\n",
    "    for j in t_body.find_all('tr'):\n",
    "        row = []\n",
    "        row.append(j.find_all('td')[1].find('a').get('href'))\n",
    "        row.append(data[i][1])\n",
    "        row.append(j.find_all('td')[1].find('a').get_text().split('Lyrics')[0].replace('\\n','').rstrip())\n",
    "        row.append(data[i][2])\n",
    "        song_data.append(row)"
   ]
  },
  {
   "cell_type": "code",
   "execution_count": 90,
   "metadata": {
    "collapsed": false
   },
   "outputs": [
    {
     "data": {
      "text/plain": [
       "['http://www.metrolyrics.com/prinsesa-lyrics-6cyclemind.html',\n",
       " '6cyclemind',\n",
       " 'Prinsesa',\n",
       " 'Rock']"
      ]
     },
     "execution_count": 90,
     "metadata": {},
     "output_type": "execute_result"
    }
   ],
   "source": [
    "song_data[0]"
   ]
  },
  {
   "cell_type": "code",
   "execution_count": 91,
   "metadata": {
    "collapsed": false
   },
   "outputs": [],
   "source": [
    "lyrics_data = []\n",
    "for i in song_data:\n",
    "    row = []\n",
    "    page = requests.get(i[0])\n",
    "    soup = BeautifulSoup(page.content,'html.parser')\n",
    "    lyrics = soup.find(id='lyrics-body-text')\n",
    "    row.append(lyrics.get_text().strip('\\n'))\n",
    "    row.append(i[1])\n",
    "    row.append(i[2])\n",
    "    row.append(i[3])\n",
    "    lyrics_data.append(row)"
   ]
  },
  {
   "cell_type": "code",
   "execution_count": 92,
   "metadata": {
    "collapsed": true
   },
   "outputs": [],
   "source": [
    "import pandas as pd"
   ]
  },
  {
   "cell_type": "code",
   "execution_count": 93,
   "metadata": {
    "collapsed": false
   },
   "outputs": [],
   "source": [
    "df = pd.DataFrame(lyrics_data,columns=['Lyrics','Artist','Song','Genre'])"
   ]
  },
  {
   "cell_type": "code",
   "execution_count": 94,
   "metadata": {
    "collapsed": false
   },
   "outputs": [
    {
     "data": {
      "text/plain": [
       "\"(Verse 1)\\nNakaupo s'ya sa isang madilim na sulok\\nEwan ko ba kung bakit sa libu-libong babaeng nandoon\\nWala pang isang minuto\\nNahulog na ang loob ko sa 'yo.\\nGusto ko sanang marinig ang tinig mo\\nUmasa na rin na sana'y mahawakan ko ang palad mo\\nGusto ko sanang lumapit\\nKung di lang sa lalaking kayakap mo, ho o-o-oh.(Chorus)\\nDalhin mo ako sa iyong palasyo\\nMaglakad tayo sa hardin ng yong kaharian\\nWala man akong pag-aari\\nPangako kong habangbuhay kitang pagsisilbihan\\nO aking prinsesa ha-a-ah, prinsesa\\nPrinsesa, prinsesa.(Verse 2)\\nDi ako makatulog\\nNaisip ko ang ningning ng yong mata\\nNasa isip kita buong umaga buong magdamag\\nSana'y parati kang tanaw\\nO ang sakit isipin ito'y isang panaginip\\nPanaginip lang.Repeat Chorus \""
      ]
     },
     "execution_count": 94,
     "metadata": {},
     "output_type": "execute_result"
    }
   ],
   "source": [
    "df.iloc[0].Lyrics"
   ]
  },
  {
   "cell_type": "code",
   "execution_count": null,
   "metadata": {
    "collapsed": false
   },
   "outputs": [],
   "source": [
    "def song_scrapper():\n",
    "    for i in data:\n",
    "        page = requests.get(i[0])\n",
    "        soup = BeautifulSoup(page.content,'html.parser')\n",
    "        table = soup.find(class_='songs-table compact')\n",
    "        t_body = table.find('tbody')\n",
    "        for j in t_body.find_all('tr'):\n",
    "            row = []\n",
    "            row.append(j.find_all('td')[1].find('a').get('href'))\n",
    "            row.append(i[1])\n",
    "            row.append(j.find_all('td')[1].find('a').get_text().split('Lyrics')[0].replace('\\n','').rstrip())\n",
    "            row.append(i[2])\n",
    "            song_data.append(row)\n",
    "    lyrics_data = []\n",
    "    for i in song_data:\n",
    "        row = []\n",
    "        page = requests.get(i[0])\n",
    "        soup = BeautifulSoup(page.content,'html.parser')\n",
    "        lyrics = soup.find(id='lyrics-body-text')\n",
    "        row.append(lyrics.get_text().strip('\\n'))\n",
    "        row.append(i[1])\n",
    "        row.append(i[2])\n",
    "        row.append(i[3])\n",
    "        lyrics_data.append(row)\n",
    "    return lyrics_data"
   ]
  },
  {
   "cell_type": "code",
   "execution_count": null,
   "metadata": {
    "collapsed": true
   },
   "outputs": [],
   "source": []
  }
 ],
 "metadata": {
  "anaconda-cloud": {},
  "kernelspec": {
   "display_name": "Python [Root]",
   "language": "python",
   "name": "Python [Root]"
  },
  "language_info": {
   "codemirror_mode": {
    "name": "ipython",
    "version": 3
   },
   "file_extension": ".py",
   "mimetype": "text/x-python",
   "name": "python",
   "nbconvert_exporter": "python",
   "pygments_lexer": "ipython3",
   "version": "3.5.2"
  }
 },
 "nbformat": 4,
 "nbformat_minor": 0
}
