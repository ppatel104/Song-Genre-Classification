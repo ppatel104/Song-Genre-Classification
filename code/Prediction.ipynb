{
 "cells": [
  {
   "cell_type": "code",
   "execution_count": 1,
   "metadata": {
    "collapsed": true
   },
   "outputs": [],
   "source": [
    "import pandas as pd"
   ]
  },
  {
   "cell_type": "code",
   "execution_count": 2,
   "metadata": {
    "collapsed": false
   },
   "outputs": [],
   "source": [
    "tf_idf_features = pd.read_csv('tf_idf_data.csv')"
   ]
  },
  {
   "cell_type": "code",
   "execution_count": 32,
   "metadata": {
    "collapsed": false
   },
   "outputs": [],
   "source": [
    "pos_features = pd.read_csv('PosTagsCombined.csv')"
   ]
  },
  {
   "cell_type": "code",
   "execution_count": 33,
   "metadata": {
    "collapsed": false
   },
   "outputs": [],
   "source": [
    "a = pos_features[pos_features.columns.difference(['Genre'])]"
   ]
  },
  {
   "cell_type": "code",
   "execution_count": 34,
   "metadata": {
    "collapsed": false
   },
   "outputs": [],
   "source": [
    "pos_features_new = (a - a.mean())/(a.max()-a.min())"
   ]
  },
  {
   "cell_type": "code",
   "execution_count": 35,
   "metadata": {
    "collapsed": false
   },
   "outputs": [
    {
     "data": {
      "text/html": [
       "<div>\n",
       "<table border=\"1\" class=\"dataframe\">\n",
       "  <thead>\n",
       "    <tr style=\"text-align: right;\">\n",
       "      <th></th>\n",
       "      <th>$</th>\n",
       "      <th>''</th>\n",
       "      <th>CC</th>\n",
       "      <th>CD</th>\n",
       "      <th>DT</th>\n",
       "      <th>EX</th>\n",
       "      <th>FW</th>\n",
       "      <th>Genre</th>\n",
       "      <th>IN</th>\n",
       "      <th>JJ</th>\n",
       "      <th>...</th>\n",
       "      <th>VBD</th>\n",
       "      <th>VBG</th>\n",
       "      <th>VBN</th>\n",
       "      <th>VBP</th>\n",
       "      <th>VBZ</th>\n",
       "      <th>WDT</th>\n",
       "      <th>WP</th>\n",
       "      <th>WP$</th>\n",
       "      <th>WRB</th>\n",
       "      <th>``</th>\n",
       "    </tr>\n",
       "  </thead>\n",
       "  <tbody>\n",
       "    <tr>\n",
       "      <th>0</th>\n",
       "      <td>0.0</td>\n",
       "      <td>0.0</td>\n",
       "      <td>1.0</td>\n",
       "      <td>4.0</td>\n",
       "      <td>3.0</td>\n",
       "      <td>0.0</td>\n",
       "      <td>1.0</td>\n",
       "      <td>0</td>\n",
       "      <td>21.0</td>\n",
       "      <td>58.0</td>\n",
       "      <td>...</td>\n",
       "      <td>15.0</td>\n",
       "      <td>0.0</td>\n",
       "      <td>2.0</td>\n",
       "      <td>46.0</td>\n",
       "      <td>2.0</td>\n",
       "      <td>0.0</td>\n",
       "      <td>1.0</td>\n",
       "      <td>1.0</td>\n",
       "      <td>0.0</td>\n",
       "      <td>0.0</td>\n",
       "    </tr>\n",
       "    <tr>\n",
       "      <th>1</th>\n",
       "      <td>0.0</td>\n",
       "      <td>0.0</td>\n",
       "      <td>0.0</td>\n",
       "      <td>0.0</td>\n",
       "      <td>1.0</td>\n",
       "      <td>0.0</td>\n",
       "      <td>0.0</td>\n",
       "      <td>0</td>\n",
       "      <td>9.0</td>\n",
       "      <td>46.0</td>\n",
       "      <td>...</td>\n",
       "      <td>7.0</td>\n",
       "      <td>0.0</td>\n",
       "      <td>4.0</td>\n",
       "      <td>15.0</td>\n",
       "      <td>1.0</td>\n",
       "      <td>0.0</td>\n",
       "      <td>1.0</td>\n",
       "      <td>0.0</td>\n",
       "      <td>0.0</td>\n",
       "      <td>0.0</td>\n",
       "    </tr>\n",
       "    <tr>\n",
       "      <th>2</th>\n",
       "      <td>0.0</td>\n",
       "      <td>0.0</td>\n",
       "      <td>0.0</td>\n",
       "      <td>7.0</td>\n",
       "      <td>1.0</td>\n",
       "      <td>0.0</td>\n",
       "      <td>0.0</td>\n",
       "      <td>0</td>\n",
       "      <td>21.0</td>\n",
       "      <td>74.0</td>\n",
       "      <td>...</td>\n",
       "      <td>20.0</td>\n",
       "      <td>2.0</td>\n",
       "      <td>11.0</td>\n",
       "      <td>38.0</td>\n",
       "      <td>3.0</td>\n",
       "      <td>0.0</td>\n",
       "      <td>1.0</td>\n",
       "      <td>0.0</td>\n",
       "      <td>0.0</td>\n",
       "      <td>0.0</td>\n",
       "    </tr>\n",
       "    <tr>\n",
       "      <th>3</th>\n",
       "      <td>0.0</td>\n",
       "      <td>0.0</td>\n",
       "      <td>2.0</td>\n",
       "      <td>6.0</td>\n",
       "      <td>0.0</td>\n",
       "      <td>0.0</td>\n",
       "      <td>0.0</td>\n",
       "      <td>0</td>\n",
       "      <td>9.0</td>\n",
       "      <td>63.0</td>\n",
       "      <td>...</td>\n",
       "      <td>21.0</td>\n",
       "      <td>2.0</td>\n",
       "      <td>8.0</td>\n",
       "      <td>22.0</td>\n",
       "      <td>0.0</td>\n",
       "      <td>0.0</td>\n",
       "      <td>0.0</td>\n",
       "      <td>0.0</td>\n",
       "      <td>0.0</td>\n",
       "      <td>0.0</td>\n",
       "    </tr>\n",
       "    <tr>\n",
       "      <th>4</th>\n",
       "      <td>0.0</td>\n",
       "      <td>0.0</td>\n",
       "      <td>0.0</td>\n",
       "      <td>4.0</td>\n",
       "      <td>1.0</td>\n",
       "      <td>0.0</td>\n",
       "      <td>1.0</td>\n",
       "      <td>0</td>\n",
       "      <td>15.0</td>\n",
       "      <td>52.0</td>\n",
       "      <td>...</td>\n",
       "      <td>10.0</td>\n",
       "      <td>1.0</td>\n",
       "      <td>0.0</td>\n",
       "      <td>18.0</td>\n",
       "      <td>2.0</td>\n",
       "      <td>0.0</td>\n",
       "      <td>0.0</td>\n",
       "      <td>0.0</td>\n",
       "      <td>0.0</td>\n",
       "      <td>0.0</td>\n",
       "    </tr>\n",
       "  </tbody>\n",
       "</table>\n",
       "<p>5 rows × 39 columns</p>\n",
       "</div>"
      ],
      "text/plain": [
       "     $   ''   CC   CD   DT   EX   FW  Genre    IN    JJ ...    VBD  VBG   VBN  \\\n",
       "0  0.0  0.0  1.0  4.0  3.0  0.0  1.0      0  21.0  58.0 ...   15.0  0.0   2.0   \n",
       "1  0.0  0.0  0.0  0.0  1.0  0.0  0.0      0   9.0  46.0 ...    7.0  0.0   4.0   \n",
       "2  0.0  0.0  0.0  7.0  1.0  0.0  0.0      0  21.0  74.0 ...   20.0  2.0  11.0   \n",
       "3  0.0  0.0  2.0  6.0  0.0  0.0  0.0      0   9.0  63.0 ...   21.0  2.0   8.0   \n",
       "4  0.0  0.0  0.0  4.0  1.0  0.0  1.0      0  15.0  52.0 ...   10.0  1.0   0.0   \n",
       "\n",
       "    VBP  VBZ  WDT   WP  WP$  WRB   ``  \n",
       "0  46.0  2.0  0.0  1.0  1.0  0.0  0.0  \n",
       "1  15.0  1.0  0.0  1.0  0.0  0.0  0.0  \n",
       "2  38.0  3.0  0.0  1.0  0.0  0.0  0.0  \n",
       "3  22.0  0.0  0.0  0.0  0.0  0.0  0.0  \n",
       "4  18.0  2.0  0.0  0.0  0.0  0.0  0.0  \n",
       "\n",
       "[5 rows x 39 columns]"
      ]
     },
     "execution_count": 35,
     "metadata": {},
     "output_type": "execute_result"
    }
   ],
   "source": [
    "pos_features.head()"
   ]
  },
  {
   "cell_type": "code",
   "execution_count": 36,
   "metadata": {
    "collapsed": true
   },
   "outputs": [],
   "source": [
    "w2v_features = pd.read_csv('w2vDataFinal.csv')"
   ]
  },
  {
   "cell_type": "code",
   "execution_count": 40,
   "metadata": {
    "collapsed": true
   },
   "outputs": [],
   "source": [
    "data = pd.concat([tf_idf_features,w2v_features,pos_features_new],axis=1)"
   ]
  },
  {
   "cell_type": "code",
   "execution_count": 41,
   "metadata": {
    "collapsed": true
   },
   "outputs": [],
   "source": [
    "data['Genre'] = pos_features.Genre"
   ]
  },
  {
   "cell_type": "code",
   "execution_count": 42,
   "metadata": {
    "collapsed": false
   },
   "outputs": [
    {
     "data": {
      "text/html": [
       "<div>\n",
       "<table border=\"1\" class=\"dataframe\">\n",
       "  <thead>\n",
       "    <tr style=\"text-align: right;\">\n",
       "      <th></th>\n",
       "      <th>Hip_Hop_similarity</th>\n",
       "      <th>Metal_similarity</th>\n",
       "      <th>Pop_similarity</th>\n",
       "      <th>Rock_similarity</th>\n",
       "      <th>w2v_1</th>\n",
       "      <th>w2v_2</th>\n",
       "      <th>w2v_3</th>\n",
       "      <th>w2v_4</th>\n",
       "      <th>w2v_5</th>\n",
       "      <th>w2v_6</th>\n",
       "      <th>...</th>\n",
       "      <th>VBG</th>\n",
       "      <th>VBN</th>\n",
       "      <th>VBP</th>\n",
       "      <th>VBZ</th>\n",
       "      <th>WDT</th>\n",
       "      <th>WP</th>\n",
       "      <th>WP$</th>\n",
       "      <th>WRB</th>\n",
       "      <th>``</th>\n",
       "      <th>Genre</th>\n",
       "    </tr>\n",
       "  </thead>\n",
       "  <tbody>\n",
       "    <tr>\n",
       "      <th>0</th>\n",
       "      <td>0.572324</td>\n",
       "      <td>0.557320</td>\n",
       "      <td>0.516466</td>\n",
       "      <td>0.550151</td>\n",
       "      <td>0.325589</td>\n",
       "      <td>-0.125482</td>\n",
       "      <td>0.147536</td>\n",
       "      <td>-0.071102</td>\n",
       "      <td>0.089119</td>\n",
       "      <td>0.151186</td>\n",
       "      <td>...</td>\n",
       "      <td>-0.003334</td>\n",
       "      <td>-0.001621</td>\n",
       "      <td>0.133564</td>\n",
       "      <td>0.010865</td>\n",
       "      <td>-0.001765</td>\n",
       "      <td>0.006742</td>\n",
       "      <td>0.123744</td>\n",
       "      <td>-0.002236</td>\n",
       "      <td>-0.00005</td>\n",
       "      <td>0</td>\n",
       "    </tr>\n",
       "    <tr>\n",
       "      <th>1</th>\n",
       "      <td>0.329304</td>\n",
       "      <td>0.318860</td>\n",
       "      <td>0.238707</td>\n",
       "      <td>0.365458</td>\n",
       "      <td>0.388892</td>\n",
       "      <td>0.309120</td>\n",
       "      <td>0.036648</td>\n",
       "      <td>-0.225760</td>\n",
       "      <td>-0.672489</td>\n",
       "      <td>-0.093571</td>\n",
       "      <td>...</td>\n",
       "      <td>-0.003334</td>\n",
       "      <td>0.022475</td>\n",
       "      <td>0.017459</td>\n",
       "      <td>-0.002648</td>\n",
       "      <td>-0.001765</td>\n",
       "      <td>0.006742</td>\n",
       "      <td>-0.001256</td>\n",
       "      <td>-0.002236</td>\n",
       "      <td>-0.00005</td>\n",
       "      <td>0</td>\n",
       "    </tr>\n",
       "    <tr>\n",
       "      <th>2</th>\n",
       "      <td>0.437304</td>\n",
       "      <td>0.454970</td>\n",
       "      <td>0.369333</td>\n",
       "      <td>0.497569</td>\n",
       "      <td>0.860438</td>\n",
       "      <td>0.438081</td>\n",
       "      <td>0.042422</td>\n",
       "      <td>0.080651</td>\n",
       "      <td>-0.116367</td>\n",
       "      <td>-0.036655</td>\n",
       "      <td>...</td>\n",
       "      <td>0.006567</td>\n",
       "      <td>0.106812</td>\n",
       "      <td>0.103602</td>\n",
       "      <td>0.024379</td>\n",
       "      <td>-0.001765</td>\n",
       "      <td>0.006742</td>\n",
       "      <td>-0.001256</td>\n",
       "      <td>-0.002236</td>\n",
       "      <td>-0.00005</td>\n",
       "      <td>0</td>\n",
       "    </tr>\n",
       "    <tr>\n",
       "      <th>3</th>\n",
       "      <td>0.278048</td>\n",
       "      <td>0.367773</td>\n",
       "      <td>0.522921</td>\n",
       "      <td>0.300138</td>\n",
       "      <td>1.043292</td>\n",
       "      <td>0.269069</td>\n",
       "      <td>-0.225216</td>\n",
       "      <td>-0.410170</td>\n",
       "      <td>0.250908</td>\n",
       "      <td>-0.206474</td>\n",
       "      <td>...</td>\n",
       "      <td>0.006567</td>\n",
       "      <td>0.070668</td>\n",
       "      <td>0.043677</td>\n",
       "      <td>-0.016162</td>\n",
       "      <td>-0.001765</td>\n",
       "      <td>-0.001591</td>\n",
       "      <td>-0.001256</td>\n",
       "      <td>-0.002236</td>\n",
       "      <td>-0.00005</td>\n",
       "      <td>0</td>\n",
       "    </tr>\n",
       "    <tr>\n",
       "      <th>4</th>\n",
       "      <td>0.324358</td>\n",
       "      <td>0.344924</td>\n",
       "      <td>0.406975</td>\n",
       "      <td>0.393070</td>\n",
       "      <td>0.328458</td>\n",
       "      <td>0.245278</td>\n",
       "      <td>0.325248</td>\n",
       "      <td>-0.052098</td>\n",
       "      <td>-0.107731</td>\n",
       "      <td>0.030227</td>\n",
       "      <td>...</td>\n",
       "      <td>0.001617</td>\n",
       "      <td>-0.025718</td>\n",
       "      <td>0.028695</td>\n",
       "      <td>0.010865</td>\n",
       "      <td>-0.001765</td>\n",
       "      <td>-0.001591</td>\n",
       "      <td>-0.001256</td>\n",
       "      <td>-0.002236</td>\n",
       "      <td>-0.00005</td>\n",
       "      <td>0</td>\n",
       "    </tr>\n",
       "  </tbody>\n",
       "</table>\n",
       "<p>5 rows × 93 columns</p>\n",
       "</div>"
      ],
      "text/plain": [
       "   Hip_Hop_similarity  Metal_similarity  Pop_similarity  Rock_similarity  \\\n",
       "0            0.572324          0.557320        0.516466         0.550151   \n",
       "1            0.329304          0.318860        0.238707         0.365458   \n",
       "2            0.437304          0.454970        0.369333         0.497569   \n",
       "3            0.278048          0.367773        0.522921         0.300138   \n",
       "4            0.324358          0.344924        0.406975         0.393070   \n",
       "\n",
       "      w2v_1     w2v_2     w2v_3     w2v_4     w2v_5     w2v_6  ...    \\\n",
       "0  0.325589 -0.125482  0.147536 -0.071102  0.089119  0.151186  ...     \n",
       "1  0.388892  0.309120  0.036648 -0.225760 -0.672489 -0.093571  ...     \n",
       "2  0.860438  0.438081  0.042422  0.080651 -0.116367 -0.036655  ...     \n",
       "3  1.043292  0.269069 -0.225216 -0.410170  0.250908 -0.206474  ...     \n",
       "4  0.328458  0.245278  0.325248 -0.052098 -0.107731  0.030227  ...     \n",
       "\n",
       "        VBG       VBN       VBP       VBZ       WDT        WP       WP$  \\\n",
       "0 -0.003334 -0.001621  0.133564  0.010865 -0.001765  0.006742  0.123744   \n",
       "1 -0.003334  0.022475  0.017459 -0.002648 -0.001765  0.006742 -0.001256   \n",
       "2  0.006567  0.106812  0.103602  0.024379 -0.001765  0.006742 -0.001256   \n",
       "3  0.006567  0.070668  0.043677 -0.016162 -0.001765 -0.001591 -0.001256   \n",
       "4  0.001617 -0.025718  0.028695  0.010865 -0.001765 -0.001591 -0.001256   \n",
       "\n",
       "        WRB       ``  Genre  \n",
       "0 -0.002236 -0.00005      0  \n",
       "1 -0.002236 -0.00005      0  \n",
       "2 -0.002236 -0.00005      0  \n",
       "3 -0.002236 -0.00005      0  \n",
       "4 -0.002236 -0.00005      0  \n",
       "\n",
       "[5 rows x 93 columns]"
      ]
     },
     "execution_count": 42,
     "metadata": {},
     "output_type": "execute_result"
    }
   ],
   "source": [
    "data.head()"
   ]
  },
  {
   "cell_type": "code",
   "execution_count": 43,
   "metadata": {
    "collapsed": true
   },
   "outputs": [],
   "source": [
    "import numpy as np"
   ]
  },
  {
   "cell_type": "code",
   "execution_count": 44,
   "metadata": {
    "collapsed": false
   },
   "outputs": [],
   "source": [
    "data = data.reindex(np.random.permutation(data.index))"
   ]
  },
  {
   "cell_type": "markdown",
   "metadata": {},
   "source": [
    "# Train - Test Split"
   ]
  },
  {
   "cell_type": "code",
   "execution_count": 45,
   "metadata": {
    "collapsed": true
   },
   "outputs": [],
   "source": [
    "from sklearn.model_selection import train_test_split"
   ]
  },
  {
   "cell_type": "code",
   "execution_count": 46,
   "metadata": {
    "collapsed": false
   },
   "outputs": [],
   "source": [
    "train,test,train_y,test_y = train_test_split(data[data.columns.difference(['Genre'])],data['Genre'],train_size=0.67)"
   ]
  },
  {
   "cell_type": "code",
   "execution_count": 47,
   "metadata": {
    "collapsed": false
   },
   "outputs": [
    {
     "data": {
      "text/plain": [
       "Counter({0: 13391, 1: 13410, 2: 13367, 3: 13432})"
      ]
     },
     "execution_count": 47,
     "metadata": {},
     "output_type": "execute_result"
    }
   ],
   "source": [
    "from collections import Counter\n",
    "c = Counter()\n",
    "c.update(train_y)\n",
    "c"
   ]
  },
  {
   "cell_type": "code",
   "execution_count": 169,
   "metadata": {
    "collapsed": true
   },
   "outputs": [],
   "source": [
    "from sklearn.ensemble import GradientBoostingClassifier"
   ]
  },
  {
   "cell_type": "code",
   "execution_count": null,
   "metadata": {
    "collapsed": false
   },
   "outputs": [],
   "source": [
    "%%time\n",
    "gd = GradientBoostingClassifier(max_depth=20)\n",
    "gd.fit(train,train_y)\n",
    "pred = gd.predict(test)\n",
    "print (accuracy_score(test_y,pred))"
   ]
  },
  {
   "cell_type": "code",
   "execution_count": 173,
   "metadata": {
    "collapsed": false
   },
   "outputs": [
    {
     "name": "stdout",
     "output_type": "stream",
     "text": [
      "0.603825757576\n"
     ]
    }
   ],
   "source": [
    "from sklearn.ensemble import AdaBoostClassifier\n",
    "ad = AdaBoostClassifier()\n",
    "ad.fit(train,train_y)\n",
    "pred = ad.predict(test)\n",
    "print (accuracy_score(test_y,pred))"
   ]
  },
  {
   "cell_type": "code",
   "execution_count": 21,
   "metadata": {
    "collapsed": false
   },
   "outputs": [],
   "source": [
    "data.to_csv(\"CombinedFeatures.csv\",index=False)"
   ]
  },
  {
   "cell_type": "markdown",
   "metadata": {},
   "source": [
    "## Classification"
   ]
  },
  {
   "cell_type": "markdown",
   "metadata": {},
   "source": [
    "### Random Forest "
   ]
  },
  {
   "cell_type": "code",
   "execution_count": 30,
   "metadata": {
    "collapsed": false
   },
   "outputs": [
    {
     "name": "stdout",
     "output_type": "stream",
     "text": [
      "[ 0.80898373  0.65245734  0.5624662   0.48789252]\n"
     ]
    }
   ],
   "source": [
    "from sklearn.metrics import f1_score\n",
    "print(f1_score(y_actu,y_pred,average=None))"
   ]
  },
  {
   "cell_type": "code",
   "execution_count": 50,
   "metadata": {
    "collapsed": false
   },
   "outputs": [
    {
     "name": "stdout",
     "output_type": "stream",
     "text": [
      "0.630568181818\n"
     ]
    },
    {
     "data": {
      "text/html": [
       "<div>\n",
       "<table border=\"1\" class=\"dataframe\">\n",
       "  <thead>\n",
       "    <tr style=\"text-align: right;\">\n",
       "      <th>Prediction</th>\n",
       "      <th>0</th>\n",
       "      <th>1</th>\n",
       "      <th>2</th>\n",
       "      <th>3</th>\n",
       "      <th>All</th>\n",
       "    </tr>\n",
       "    <tr>\n",
       "      <th>Actual</th>\n",
       "      <th></th>\n",
       "      <th></th>\n",
       "      <th></th>\n",
       "      <th></th>\n",
       "      <th></th>\n",
       "    </tr>\n",
       "  </thead>\n",
       "  <tbody>\n",
       "    <tr>\n",
       "      <th>0</th>\n",
       "      <td>5342</td>\n",
       "      <td>219</td>\n",
       "      <td>445</td>\n",
       "      <td>603</td>\n",
       "      <td>6609</td>\n",
       "    </tr>\n",
       "    <tr>\n",
       "      <th>1</th>\n",
       "      <td>223</td>\n",
       "      <td>4450</td>\n",
       "      <td>854</td>\n",
       "      <td>1063</td>\n",
       "      <td>6590</td>\n",
       "    </tr>\n",
       "    <tr>\n",
       "      <th>2</th>\n",
       "      <td>525</td>\n",
       "      <td>987</td>\n",
       "      <td>3662</td>\n",
       "      <td>1459</td>\n",
       "      <td>6633</td>\n",
       "    </tr>\n",
       "    <tr>\n",
       "      <th>3</th>\n",
       "      <td>495</td>\n",
       "      <td>1430</td>\n",
       "      <td>1450</td>\n",
       "      <td>3193</td>\n",
       "      <td>6568</td>\n",
       "    </tr>\n",
       "    <tr>\n",
       "      <th>All</th>\n",
       "      <td>6585</td>\n",
       "      <td>7086</td>\n",
       "      <td>6411</td>\n",
       "      <td>6318</td>\n",
       "      <td>26400</td>\n",
       "    </tr>\n",
       "  </tbody>\n",
       "</table>\n",
       "</div>"
      ],
      "text/plain": [
       "Prediction     0     1     2     3    All\n",
       "Actual                                   \n",
       "0           5342   219   445   603   6609\n",
       "1            223  4450   854  1063   6590\n",
       "2            525   987  3662  1459   6633\n",
       "3            495  1430  1450  3193   6568\n",
       "All         6585  7086  6411  6318  26400"
      ]
     },
     "execution_count": 50,
     "metadata": {},
     "output_type": "execute_result"
    }
   ],
   "source": [
    "from sklearn.ensemble import RandomForestClassifier\n",
    "from sklearn.metrics import accuracy_score\n",
    "RF = RandomForestClassifier()\n",
    "RF.fit(train,train_y)\n",
    "pred = RF.predict(test)\n",
    "vals = [0,1,2,3]\n",
    "y_actu = pd.Categorical(test_y, categories=vals)\n",
    "y_actu = pd.Series(y_actu,name=\"Actual\")\n",
    "y_pred = pd.Categorical(pred, categories=vals)\n",
    "y_pred = pd.Series(y_pred,name=\"Prediction\")\n",
    "print(accuracy_score(y_actu, y_pred))\n",
    "pd.crosstab(y_actu, y_pred,margins = True)\n",
    "\n"
   ]
  },
  {
   "cell_type": "markdown",
   "metadata": {},
   "source": [
    "### Neural Network"
   ]
  },
  {
   "cell_type": "code",
   "execution_count": 55,
   "metadata": {
    "collapsed": false
   },
   "outputs": [
    {
     "name": "stdout",
     "output_type": "stream",
     "text": [
      "0.699507575758\n"
     ]
    },
    {
     "data": {
      "text/html": [
       "<div>\n",
       "<table border=\"1\" class=\"dataframe\">\n",
       "  <thead>\n",
       "    <tr style=\"text-align: right;\">\n",
       "      <th>Prediction</th>\n",
       "      <th>0</th>\n",
       "      <th>1</th>\n",
       "      <th>2</th>\n",
       "      <th>3</th>\n",
       "      <th>All</th>\n",
       "    </tr>\n",
       "    <tr>\n",
       "      <th>Actual</th>\n",
       "      <th></th>\n",
       "      <th></th>\n",
       "      <th></th>\n",
       "      <th></th>\n",
       "      <th></th>\n",
       "    </tr>\n",
       "  </thead>\n",
       "  <tbody>\n",
       "    <tr>\n",
       "      <th>0</th>\n",
       "      <td>5478</td>\n",
       "      <td>144</td>\n",
       "      <td>474</td>\n",
       "      <td>553</td>\n",
       "      <td>6649</td>\n",
       "    </tr>\n",
       "    <tr>\n",
       "      <th>1</th>\n",
       "      <td>165</td>\n",
       "      <td>4929</td>\n",
       "      <td>585</td>\n",
       "      <td>912</td>\n",
       "      <td>6591</td>\n",
       "    </tr>\n",
       "    <tr>\n",
       "      <th>2</th>\n",
       "      <td>378</td>\n",
       "      <td>771</td>\n",
       "      <td>4191</td>\n",
       "      <td>1248</td>\n",
       "      <td>6588</td>\n",
       "    </tr>\n",
       "    <tr>\n",
       "      <th>3</th>\n",
       "      <td>438</td>\n",
       "      <td>1058</td>\n",
       "      <td>1207</td>\n",
       "      <td>3869</td>\n",
       "      <td>6572</td>\n",
       "    </tr>\n",
       "    <tr>\n",
       "      <th>All</th>\n",
       "      <td>6459</td>\n",
       "      <td>6902</td>\n",
       "      <td>6457</td>\n",
       "      <td>6582</td>\n",
       "      <td>26400</td>\n",
       "    </tr>\n",
       "  </tbody>\n",
       "</table>\n",
       "</div>"
      ],
      "text/plain": [
       "Prediction     0     1     2     3    All\n",
       "Actual                                   \n",
       "0           5478   144   474   553   6649\n",
       "1            165  4929   585   912   6591\n",
       "2            378   771  4191  1248   6588\n",
       "3            438  1058  1207  3869   6572\n",
       "All         6459  6902  6457  6582  26400"
      ]
     },
     "execution_count": 55,
     "metadata": {},
     "output_type": "execute_result"
    }
   ],
   "source": [
    "nn = MLPClassifier()\n",
    "nn.fit(train,train_y)\n",
    "pred = nn.predict(test)\n",
    "vals = [0,1,2,3]\n",
    "y_actu = pd.Categorical(test_y, categories=vals)\n",
    "y_actu = pd.Series(y_actu,name=\"Actual\")\n",
    "y_pred = pd.Categorical(pred, categories=vals)\n",
    "y_pred = pd.Series(y_pred,name=\"Prediction\")\n",
    "print(accuracy_score(y_actu, y_pred))\n",
    "pd.crosstab(y_actu, y_pred,margins = True)"
   ]
  },
  {
   "cell_type": "code",
   "execution_count": 56,
   "metadata": {
    "collapsed": false
   },
   "outputs": [
    {
     "name": "stdout",
     "output_type": "stream",
     "text": [
      "[ 0.83582545  0.73060105  0.64254504  0.58826213]\n"
     ]
    }
   ],
   "source": [
    "print(f1_score(y_actu,y_pred,average=None))"
   ]
  },
  {
   "cell_type": "markdown",
   "metadata": {},
   "source": [
    "### Naive Bayes "
   ]
  },
  {
   "cell_type": "code",
   "execution_count": null,
   "metadata": {
    "collapsed": true
   },
   "outputs": [],
   "source": []
  },
  {
   "cell_type": "code",
   "execution_count": 59,
   "metadata": {
    "collapsed": false,
    "scrolled": true
   },
   "outputs": [
    {
     "name": "stdout",
     "output_type": "stream",
     "text": [
      "0.495871212121\n"
     ]
    },
    {
     "data": {
      "text/html": [
       "<div>\n",
       "<table border=\"1\" class=\"dataframe\">\n",
       "  <thead>\n",
       "    <tr style=\"text-align: right;\">\n",
       "      <th>Prediction</th>\n",
       "      <th>0</th>\n",
       "      <th>1</th>\n",
       "      <th>2</th>\n",
       "      <th>3</th>\n",
       "      <th>All</th>\n",
       "    </tr>\n",
       "    <tr>\n",
       "      <th>Actual</th>\n",
       "      <th></th>\n",
       "      <th></th>\n",
       "      <th></th>\n",
       "      <th></th>\n",
       "      <th></th>\n",
       "    </tr>\n",
       "  </thead>\n",
       "  <tbody>\n",
       "    <tr>\n",
       "      <th>0</th>\n",
       "      <td>4341</td>\n",
       "      <td>1085</td>\n",
       "      <td>621</td>\n",
       "      <td>602</td>\n",
       "      <td>6649</td>\n",
       "    </tr>\n",
       "    <tr>\n",
       "      <th>1</th>\n",
       "      <td>223</td>\n",
       "      <td>5341</td>\n",
       "      <td>412</td>\n",
       "      <td>615</td>\n",
       "      <td>6591</td>\n",
       "    </tr>\n",
       "    <tr>\n",
       "      <th>2</th>\n",
       "      <td>609</td>\n",
       "      <td>2564</td>\n",
       "      <td>1622</td>\n",
       "      <td>1793</td>\n",
       "      <td>6588</td>\n",
       "    </tr>\n",
       "    <tr>\n",
       "      <th>3</th>\n",
       "      <td>317</td>\n",
       "      <td>3732</td>\n",
       "      <td>736</td>\n",
       "      <td>1787</td>\n",
       "      <td>6572</td>\n",
       "    </tr>\n",
       "    <tr>\n",
       "      <th>All</th>\n",
       "      <td>5490</td>\n",
       "      <td>12722</td>\n",
       "      <td>3391</td>\n",
       "      <td>4797</td>\n",
       "      <td>26400</td>\n",
       "    </tr>\n",
       "  </tbody>\n",
       "</table>\n",
       "</div>"
      ],
      "text/plain": [
       "Prediction     0      1     2     3    All\n",
       "Actual                                    \n",
       "0           4341   1085   621   602   6649\n",
       "1            223   5341   412   615   6591\n",
       "2            609   2564  1622  1793   6588\n",
       "3            317   3732   736  1787   6572\n",
       "All         5490  12722  3391  4797  26400"
      ]
     },
     "execution_count": 59,
     "metadata": {},
     "output_type": "execute_result"
    }
   ],
   "source": [
    "from sklearn.naive_bayes import GaussianNB\n",
    "NB = GaussianNB()\n",
    "NB.fit(train,train_y)\n",
    "pred = NB.predict(test)\n",
    "vals = [0,1,2,3]\n",
    "y_actu = pd.Categorical(test_y, categories=vals)\n",
    "y_actu = pd.Series(y_actu,name=\"Actual\")\n",
    "y_pred = pd.Categorical(pred, categories=vals)\n",
    "y_pred = pd.Series(y_pred,name=\"Prediction\")\n",
    "print(accuracy_score(y_actu, y_pred))\n",
    "pd.crosstab(y_actu, y_pred,margins = True)"
   ]
  },
  {
   "cell_type": "markdown",
   "metadata": {},
   "source": [
    "### Support Vector Machines "
   ]
  },
  {
   "cell_type": "code",
   "execution_count": 19,
   "metadata": {
    "collapsed": false
   },
   "outputs": [
    {
     "name": "stdout",
     "output_type": "stream",
     "text": [
      "0.636477272727\n"
     ]
    },
    {
     "data": {
      "text/html": [
       "<div>\n",
       "<table border=\"1\" class=\"dataframe\">\n",
       "  <thead>\n",
       "    <tr style=\"text-align: right;\">\n",
       "      <th>Prediction</th>\n",
       "      <th>0</th>\n",
       "      <th>1</th>\n",
       "      <th>2</th>\n",
       "      <th>3</th>\n",
       "      <th>All</th>\n",
       "    </tr>\n",
       "    <tr>\n",
       "      <th>Actual</th>\n",
       "      <th></th>\n",
       "      <th></th>\n",
       "      <th></th>\n",
       "      <th></th>\n",
       "      <th></th>\n",
       "    </tr>\n",
       "  </thead>\n",
       "  <tbody>\n",
       "    <tr>\n",
       "      <th>0</th>\n",
       "      <td>5376</td>\n",
       "      <td>275</td>\n",
       "      <td>517</td>\n",
       "      <td>446</td>\n",
       "      <td>6614</td>\n",
       "    </tr>\n",
       "    <tr>\n",
       "      <th>1</th>\n",
       "      <td>264</td>\n",
       "      <td>5110</td>\n",
       "      <td>584</td>\n",
       "      <td>658</td>\n",
       "      <td>6616</td>\n",
       "    </tr>\n",
       "    <tr>\n",
       "      <th>2</th>\n",
       "      <td>662</td>\n",
       "      <td>1021</td>\n",
       "      <td>3831</td>\n",
       "      <td>1082</td>\n",
       "      <td>6596</td>\n",
       "    </tr>\n",
       "    <tr>\n",
       "      <th>3</th>\n",
       "      <td>593</td>\n",
       "      <td>1966</td>\n",
       "      <td>1529</td>\n",
       "      <td>2486</td>\n",
       "      <td>6574</td>\n",
       "    </tr>\n",
       "    <tr>\n",
       "      <th>All</th>\n",
       "      <td>6895</td>\n",
       "      <td>8372</td>\n",
       "      <td>6461</td>\n",
       "      <td>4672</td>\n",
       "      <td>26400</td>\n",
       "    </tr>\n",
       "  </tbody>\n",
       "</table>\n",
       "</div>"
      ],
      "text/plain": [
       "Prediction     0     1     2     3    All\n",
       "Actual                                   \n",
       "0           5376   275   517   446   6614\n",
       "1            264  5110   584   658   6616\n",
       "2            662  1021  3831  1082   6596\n",
       "3            593  1966  1529  2486   6574\n",
       "All         6895  8372  6461  4672  26400"
      ]
     },
     "execution_count": 19,
     "metadata": {},
     "output_type": "execute_result"
    }
   ],
   "source": [
    "from sklearn.svm import LinearSVC\n",
    "from sklearn.metrics import accuracy_score\n",
    "SV = LinearSVC()\n",
    "SV.fit(train,train_y)\n",
    "pred = SV.predict(test)\n",
    "vals = [0,1,2,3]\n",
    "y_actu = pd.Categorical(test_y, categories=vals)\n",
    "y_actu = pd.Series(y_actu,name=\"Actual\")\n",
    "y_pred = pd.Categorical(pred, categories=vals)\n",
    "y_pred = pd.Series(y_pred,name=\"Prediction\")\n",
    "print(accuracy_score(y_actu, y_pred))\n",
    "pd.crosstab(y_actu, y_pred,margins = True)"
   ]
  },
  {
   "cell_type": "markdown",
   "metadata": {},
   "source": [
    "#### Cross Val Random Forest Classifier "
   ]
  },
  {
   "cell_type": "code",
   "execution_count": 54,
   "metadata": {
    "collapsed": false
   },
   "outputs": [],
   "source": [
    "from sklearn.model_selection import cross_val_score\n",
    "clf = RandomForestClassifier()\n",
    "scores = cross_val_score(clf,data[data.columns.difference(['Genre'])],data['Genre'], cv=10)"
   ]
  },
  {
   "cell_type": "code",
   "execution_count": 55,
   "metadata": {
    "collapsed": false
   },
   "outputs": [
    {
     "name": "stdout",
     "output_type": "stream",
     "text": [
      "[ 0.637875  0.643125  0.631     0.634375  0.634375  0.62675   0.644375\n",
      "  0.635625  0.645     0.629   ]\n"
     ]
    }
   ],
   "source": [
    "print(scores)"
   ]
  },
  {
   "cell_type": "code",
   "execution_count": 62,
   "metadata": {
    "collapsed": false
   },
   "outputs": [
    {
     "name": "stdout",
     "output_type": "stream",
     "text": [
      "Random Forest Cross Val= 0.63615\n"
     ]
    }
   ],
   "source": [
    "a = [0.637875 , 0.643125 , 0.631,0.634375,0.634375,0.62675,0.644375,0.635625,0.645,0.629]\n",
    "print(\"Random Forest Cross Val=\",np.mean(a))"
   ]
  },
  {
   "cell_type": "markdown",
   "metadata": {},
   "source": [
    "#### Cross Val Logistic Regression"
   ]
  },
  {
   "cell_type": "code",
   "execution_count": 56,
   "metadata": {
    "collapsed": true
   },
   "outputs": [],
   "source": [
    "from sklearn.model_selection import cross_val_score\n",
    "from sklearn.linear_model import LogisticRegression\n",
    "clf = LogisticRegression()\n",
    "scores = cross_val_score(clf,data[data.columns.difference(['Genre'])],data['Genre'], cv=10)"
   ]
  },
  {
   "cell_type": "code",
   "execution_count": 57,
   "metadata": {
    "collapsed": false
   },
   "outputs": [
    {
     "name": "stdout",
     "output_type": "stream",
     "text": [
      "[ 0.647125  0.646625  0.634875  0.629875  0.642875  0.636875  0.64775\n",
      "  0.643375  0.647875  0.645   ]\n"
     ]
    }
   ],
   "source": [
    "print(scores)\n"
   ]
  },
  {
   "cell_type": "code",
   "execution_count": 64,
   "metadata": {
    "collapsed": false
   },
   "outputs": [
    {
     "name": "stdout",
     "output_type": "stream",
     "text": [
      "Logistic Regression Val= 0.642225\n"
     ]
    }
   ],
   "source": [
    "b = [0.647125,0.646625,0.634875,0.629875,0.642875,0.636875,0.64775,0.643375,0.647875, 0.645]\n",
    "print(\"Logistic Regression Val=\",np.mean(b))"
   ]
  },
  {
   "cell_type": "markdown",
   "metadata": {},
   "source": [
    "#### Cross Val Neural Network"
   ]
  },
  {
   "cell_type": "code",
   "execution_count": 58,
   "metadata": {
    "collapsed": true
   },
   "outputs": [],
   "source": [
    "from sklearn.model_selection import cross_val_score\n",
    "from sklearn.neural_network import MLPClassifier\n",
    "clf = MLPClassifier()\n",
    "scores = cross_val_score(clf,data[data.columns.difference(['Genre'])],data['Genre'], cv=10)"
   ]
  },
  {
   "cell_type": "code",
   "execution_count": 59,
   "metadata": {
    "collapsed": false
   },
   "outputs": [
    {
     "name": "stdout",
     "output_type": "stream",
     "text": [
      "[ 0.71075   0.719     0.69775   0.69225   0.6955    0.699375  0.706875\n",
      "  0.707     0.711875  0.712125]\n"
     ]
    }
   ],
   "source": [
    "print(scores)"
   ]
  },
  {
   "cell_type": "code",
   "execution_count": 68,
   "metadata": {
    "collapsed": false
   },
   "outputs": [
    {
     "name": "stdout",
     "output_type": "stream",
     "text": [
      "Neural Network Cross Val= 0.536075\n"
     ]
    }
   ],
   "source": [
    "print(\"Neural Network Cross Val=\",np.mean(scores))"
   ]
  },
  {
   "cell_type": "markdown",
   "metadata": {},
   "source": [
    "#### Cross Val k-Nearest Neighbors"
   ]
  },
  {
   "cell_type": "code",
   "execution_count": 67,
   "metadata": {
    "collapsed": false
   },
   "outputs": [
    {
     "name": "stdout",
     "output_type": "stream",
     "text": [
      "kNN Cross Val= 0.536075\n"
     ]
    }
   ],
   "source": [
    "from sklearn.model_selection import cross_val_score\n",
    "from sklearn.neighbors import KNeighborsClassifier\n",
    "clf = KNeighborsClassifier(n_neighbors=3)\n",
    "scores = cross_val_score(clf,data[data.columns.difference(['Genre'])],data['Genre'], cv=10)\n",
    "print(\"kNN Cross Val=\",np.mean(scores))"
   ]
  },
  {
   "cell_type": "code",
   "execution_count": null,
   "metadata": {
    "collapsed": true
   },
   "outputs": [],
   "source": []
  }
 ],
 "metadata": {
  "anaconda-cloud": {},
  "kernelspec": {
   "display_name": "Python [Root]",
   "language": "python",
   "name": "Python [Root]"
  },
  "language_info": {
   "codemirror_mode": {
    "name": "ipython",
    "version": 3
   },
   "file_extension": ".py",
   "mimetype": "text/x-python",
   "name": "python",
   "nbconvert_exporter": "python",
   "pygments_lexer": "ipython3",
   "version": "3.5.3"
  }
 },
 "nbformat": 4,
 "nbformat_minor": 0
}
