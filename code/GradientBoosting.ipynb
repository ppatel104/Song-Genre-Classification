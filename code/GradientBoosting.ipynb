{
 "cells": [
  {
   "cell_type": "markdown",
   "metadata": {},
   "source": [
    "# Gradient Boosting"
   ]
  },
  {
   "cell_type": "code",
   "execution_count": 2,
   "metadata": {
    "collapsed": true
   },
   "outputs": [],
   "source": [
    "from sklearn.ensemble import GradientBoostingClassifier\n",
    "import sklearn.metrics as mt\n",
    "import numpy as np\n",
    "import pandas as pd\n",
    "from sklearn.model_selection import train_test_split\n",
    "data=pd.read_csv('Data/CombinedFeatures.csv')\n",
    "data = data.reindex(np.random.permutation(data.index))\n",
    "train,test,train_y,test_y = train_test_split(data[data.columns.difference(['Genre'])],data['Genre'],train_size=0.67)"
   ]
  },
  {
   "cell_type": "markdown",
   "metadata": {},
   "source": [
    "Gradient Boosting with default parameters"
   ]
  },
  {
   "cell_type": "code",
   "execution_count": 3,
   "metadata": {},
   "outputs": [
    {
     "name": "stdout",
     "output_type": "stream",
     "text": [
      "Accuracy: 0.677803\n",
      "F1 Score: 0.680236\n"
     ]
    }
   ],
   "source": [
    "gd = GradientBoostingClassifier()\n",
    "gd.fit(train,train_y)\n",
    "pred = gd.predict(test)\n",
    "print (\"Accuracy: %f\"%mt.accuracy_score(test_y,pred))\n",
    "print (\"F1 Score: %f\"%mt.f1_score(test_y,pred,average='macro'))"
   ]
  },
  {
   "cell_type": "markdown",
   "metadata": {},
   "source": [
    "Gradient Boosting with max depth =5 and number of estimators =125"
   ]
  },
  {
   "cell_type": "code",
   "execution_count": 28,
   "metadata": {},
   "outputs": [
    {
     "name": "stdout",
     "output_type": "stream",
     "text": [
      "Accuracy: 0.699129\n",
      "F1 Score: 0.701620\n"
     ]
    }
   ],
   "source": [
    "gd = GradientBoostingClassifier(max_depth=5,n_estimators=125)\n",
    "gd.fit(train,train_y)\n",
    "pred = gd.predict(test)\n",
    "print (\"Accuracy: %f\"%mt.accuracy_score(test_y,pred))\n",
    "print (\"F1 Score: %f\"%mt.f1_score(test_y,pred,average='macro'))"
   ]
  },
  {
   "cell_type": "code",
   "execution_count": null,
   "metadata": {
    "collapsed": true
   },
   "outputs": [],
   "source": []
  }
 ],
 "metadata": {
  "kernelspec": {
   "display_name": "Python 3",
   "language": "python",
   "name": "python3"
  },
  "language_info": {
   "codemirror_mode": {
    "name": "ipython",
    "version": 3
   },
   "file_extension": ".py",
   "mimetype": "text/x-python",
   "name": "python",
   "nbconvert_exporter": "python",
   "pygments_lexer": "ipython3",
   "version": "3.5.3"
  }
 },
 "nbformat": 4,
 "nbformat_minor": 2
}
