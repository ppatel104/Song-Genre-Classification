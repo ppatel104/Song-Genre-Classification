{
 "cells": [
  {
   "cell_type": "markdown",
   "metadata": {},
   "source": [
    "# Feature Extraction - Word to Vector transformation using Gensim"
   ]
  },
  {
   "cell_type": "code",
   "execution_count": null,
   "metadata": {
    "collapsed": true
   },
   "outputs": [],
   "source": [
    "import gensim\n",
    "import pandas as pd\n",
    "import nltk\n",
    "import numpy as np\n",
    "from nltk.corpus import brown\n",
    "songs = pd.read_csv('Data/whole_data.csv')"
   ]
  },
  {
   "cell_type": "code",
   "execution_count": 322,
   "metadata": {
    "collapsed": true
   },
   "outputs": [],
   "source": [
    "# dat=songs.groupby('genre')\n",
    "Lyrics=list(songs['lyrics'])"
   ]
  },
  {
   "cell_type": "code",
   "execution_count": 323,
   "metadata": {
    "collapsed": true
   },
   "outputs": [],
   "source": [
    "corpus=(Lyrics)"
   ]
  },
  {
   "cell_type": "markdown",
   "metadata": {},
   "source": [
    "Setting Up The Vcabulary"
   ]
  },
  {
   "cell_type": "code",
   "execution_count": 324,
   "metadata": {
    "collapsed": true
   },
   "outputs": [],
   "source": [
    "sentencesData=[] #vocabulary\n",
    "Tokens=[]\n",
    "for i in range(len(corpus)):\n",
    "    g=corpus[i].split()\n",
    "    sentencesData.append(set(g))\n",
    "    Tokens.append((g))\n",
    "sentencesBrown = brown.sents()   \n",
    "for i in range(len(sentencesBrown)):\n",
    "    sentencesData.append(set(sentencesBrown[i]))"
   ]
  },
  {
   "cell_type": "markdown",
   "metadata": {},
   "source": [
    "Fitting the sentences to the Gensim model\n",
    "Size is 50 and window is 5 with min_count of token in a sentence is 5"
   ]
  },
  {
   "cell_type": "code",
   "execution_count": 325,
   "metadata": {
    "collapsed": true
   },
   "outputs": [],
   "source": [
    "model = gensim.models.Word2Vec(sentencesData, size=50,window=5,min_count=5)"
   ]
  },
  {
   "cell_type": "code",
   "execution_count": 326,
   "metadata": {
    "collapsed": true
   },
   "outputs": [],
   "source": [
    "vocab=model.wv.vocab\n",
    "vocab=(set(vocab))"
   ]
  },
  {
   "cell_type": "code",
   "execution_count": 330,
   "metadata": {
    "collapsed": true
   },
   "outputs": [],
   "source": [
    "word2vecTokens=[] #word2vec for all the data\n",
    "i=0;\n",
    "for g in Tokens: #running loop over all the tokens\n",
    "    vc=[] #to store temp vector for each token in an instance\n",
    "    for s in g:\n",
    "        if (s in vocab):\n",
    "            vc.append(model.wv[s])\n",
    "    word2vecTokens.append(vc) # appending all the vectors of an instance"
   ]
  },
  {
   "cell_type": "code",
   "execution_count": 331,
   "metadata": {},
   "outputs": [
    {
     "name": "stderr",
     "output_type": "stream",
     "text": [
      "C:\\Users\\karti\\Anaconda3\\lib\\site-packages\\ipykernel\\__main__.py:3: RuntimeWarning: invalid value encountered in double_scalars\n",
      "  app.launch_new_instance()\n"
     ]
    }
   ],
   "source": [
    "g=[]\n",
    "for i in range (len(word2vecTokens)):\n",
    "    g.append(np.sum(word2vecTokens[i], axis=0)/len(word2vecTokens[i]))"
   ]
  },
  {
   "cell_type": "code",
   "execution_count": 332,
   "metadata": {
    "collapsed": true
   },
   "outputs": [],
   "source": [
    "columns=[]\n",
    "index=[]\n",
    "for k in range(0,80000):\n",
    "    index.append(k)\n",
    "for i in range(1,51):\n",
    "    columns.append(\"w2v_\"+str(i))\n",
    "df_ = pd.DataFrame(columns=columns)\n",
    "df_ = df_.fillna(0)"
   ]
  },
  {
   "cell_type": "code",
   "execution_count": null,
   "metadata": {
    "collapsed": true
   },
   "outputs": [],
   "source": [
    "# w2vtokensArray=np.asarray(g)\n",
    "# type(w2vtokensArray[0])\n",
    "# w2vtokensArray[0]\n",
    "# w2vtokensArray=np.asarray(g)\n",
    "# zero_ar=np.zeros(50)\n",
    "# for k in range(len(w2vtokensArray)):\n",
    "#     ar=(w2vtokensArray[k])\n",
    "#     if (ar.size<2):\n",
    "#         df2 = pd.DataFrame([zero_ar],index=[k], columns=columns)\n",
    "#     else :\n",
    "#         df2 = pd.DataFrame([ar],index=[k], columns=columns)\n",
    "#     print(k)\n",
    "#     df_=df_.append(df2)\n",
    "# df_"
   ]
  },
  {
   "cell_type": "code",
   "execution_count": 339,
   "metadata": {
    "collapsed": true
   },
   "outputs": [],
   "source": [
    "for x in range (len(g)):\n",
    "    try:\n",
    "        if(type(g[x])==float):\n",
    "            g[x]=[0]*50\n",
    "        g[x]=g[x].tolist()\n",
    "    except:\n",
    "        print(x)"
   ]
  },
  {
   "cell_type": "markdown",
   "metadata": {},
   "source": [
    "Converting the feature word to vector into a Panda Dataframe"
   ]
  },
  {
   "cell_type": "code",
   "execution_count": 342,
   "metadata": {},
   "outputs": [
    {
     "data": {
      "text/html": [
       "<div>\n",
       "<table border=\"1\" class=\"dataframe\">\n",
       "  <thead>\n",
       "    <tr style=\"text-align: right;\">\n",
       "      <th></th>\n",
       "      <th>w2v_1</th>\n",
       "      <th>w2v_2</th>\n",
       "      <th>w2v_3</th>\n",
       "      <th>w2v_4</th>\n",
       "      <th>w2v_5</th>\n",
       "      <th>w2v_6</th>\n",
       "      <th>w2v_7</th>\n",
       "      <th>w2v_8</th>\n",
       "      <th>w2v_9</th>\n",
       "      <th>w2v_10</th>\n",
       "      <th>...</th>\n",
       "      <th>w2v_41</th>\n",
       "      <th>w2v_42</th>\n",
       "      <th>w2v_43</th>\n",
       "      <th>w2v_44</th>\n",
       "      <th>w2v_45</th>\n",
       "      <th>w2v_46</th>\n",
       "      <th>w2v_47</th>\n",
       "      <th>w2v_48</th>\n",
       "      <th>w2v_49</th>\n",
       "      <th>w2v_50</th>\n",
       "    </tr>\n",
       "  </thead>\n",
       "  <tbody>\n",
       "    <tr>\n",
       "      <th>0</th>\n",
       "      <td>0.325589</td>\n",
       "      <td>-0.125482</td>\n",
       "      <td>0.147536</td>\n",
       "      <td>-0.071102</td>\n",
       "      <td>0.089119</td>\n",
       "      <td>0.151186</td>\n",
       "      <td>0.129971</td>\n",
       "      <td>0.145654</td>\n",
       "      <td>0.556755</td>\n",
       "      <td>-0.364629</td>\n",
       "      <td>...</td>\n",
       "      <td>0.368024</td>\n",
       "      <td>0.462392</td>\n",
       "      <td>-0.574463</td>\n",
       "      <td>-0.689719</td>\n",
       "      <td>0.481573</td>\n",
       "      <td>-0.351223</td>\n",
       "      <td>-0.009940</td>\n",
       "      <td>-0.662326</td>\n",
       "      <td>0.286771</td>\n",
       "      <td>0.016758</td>\n",
       "    </tr>\n",
       "    <tr>\n",
       "      <th>1</th>\n",
       "      <td>0.388892</td>\n",
       "      <td>0.309120</td>\n",
       "      <td>0.036648</td>\n",
       "      <td>-0.225760</td>\n",
       "      <td>-0.672489</td>\n",
       "      <td>-0.093571</td>\n",
       "      <td>-0.131354</td>\n",
       "      <td>0.299951</td>\n",
       "      <td>1.157278</td>\n",
       "      <td>-0.399642</td>\n",
       "      <td>...</td>\n",
       "      <td>-0.249666</td>\n",
       "      <td>0.356900</td>\n",
       "      <td>-0.454662</td>\n",
       "      <td>-1.079972</td>\n",
       "      <td>0.483924</td>\n",
       "      <td>-0.266482</td>\n",
       "      <td>-0.179494</td>\n",
       "      <td>-0.686098</td>\n",
       "      <td>0.274839</td>\n",
       "      <td>-0.433141</td>\n",
       "    </tr>\n",
       "    <tr>\n",
       "      <th>2</th>\n",
       "      <td>0.860438</td>\n",
       "      <td>0.438081</td>\n",
       "      <td>0.042422</td>\n",
       "      <td>0.080651</td>\n",
       "      <td>-0.116367</td>\n",
       "      <td>-0.036655</td>\n",
       "      <td>-0.012270</td>\n",
       "      <td>0.776752</td>\n",
       "      <td>0.529917</td>\n",
       "      <td>0.011440</td>\n",
       "      <td>...</td>\n",
       "      <td>0.295634</td>\n",
       "      <td>0.334000</td>\n",
       "      <td>-0.249881</td>\n",
       "      <td>-0.681421</td>\n",
       "      <td>0.893921</td>\n",
       "      <td>-0.332154</td>\n",
       "      <td>-0.537582</td>\n",
       "      <td>-0.461029</td>\n",
       "      <td>-0.161782</td>\n",
       "      <td>-0.084217</td>\n",
       "    </tr>\n",
       "    <tr>\n",
       "      <th>3</th>\n",
       "      <td>1.043292</td>\n",
       "      <td>0.269069</td>\n",
       "      <td>-0.225216</td>\n",
       "      <td>-0.410170</td>\n",
       "      <td>0.250908</td>\n",
       "      <td>-0.206474</td>\n",
       "      <td>-0.177919</td>\n",
       "      <td>0.384036</td>\n",
       "      <td>0.839324</td>\n",
       "      <td>0.133455</td>\n",
       "      <td>...</td>\n",
       "      <td>0.759046</td>\n",
       "      <td>0.142391</td>\n",
       "      <td>-0.291202</td>\n",
       "      <td>-0.946421</td>\n",
       "      <td>0.612884</td>\n",
       "      <td>-0.317036</td>\n",
       "      <td>-0.406054</td>\n",
       "      <td>-0.360962</td>\n",
       "      <td>0.103662</td>\n",
       "      <td>-0.248183</td>\n",
       "    </tr>\n",
       "    <tr>\n",
       "      <th>4</th>\n",
       "      <td>0.328458</td>\n",
       "      <td>0.245278</td>\n",
       "      <td>0.325248</td>\n",
       "      <td>-0.052098</td>\n",
       "      <td>-0.107731</td>\n",
       "      <td>0.030227</td>\n",
       "      <td>-0.063178</td>\n",
       "      <td>0.331883</td>\n",
       "      <td>0.204777</td>\n",
       "      <td>-0.238042</td>\n",
       "      <td>...</td>\n",
       "      <td>-0.261981</td>\n",
       "      <td>0.516371</td>\n",
       "      <td>-0.313739</td>\n",
       "      <td>-0.342349</td>\n",
       "      <td>0.633449</td>\n",
       "      <td>-0.306553</td>\n",
       "      <td>-0.494436</td>\n",
       "      <td>-0.491721</td>\n",
       "      <td>0.010740</td>\n",
       "      <td>-0.233595</td>\n",
       "    </tr>\n",
       "  </tbody>\n",
       "</table>\n",
       "<p>5 rows × 50 columns</p>\n",
       "</div>"
      ],
      "text/plain": [
       "      w2v_1     w2v_2     w2v_3     w2v_4     w2v_5     w2v_6     w2v_7  \\\n",
       "0  0.325589 -0.125482  0.147536 -0.071102  0.089119  0.151186  0.129971   \n",
       "1  0.388892  0.309120  0.036648 -0.225760 -0.672489 -0.093571 -0.131354   \n",
       "2  0.860438  0.438081  0.042422  0.080651 -0.116367 -0.036655 -0.012270   \n",
       "3  1.043292  0.269069 -0.225216 -0.410170  0.250908 -0.206474 -0.177919   \n",
       "4  0.328458  0.245278  0.325248 -0.052098 -0.107731  0.030227 -0.063178   \n",
       "\n",
       "      w2v_8     w2v_9    w2v_10    ...       w2v_41    w2v_42    w2v_43  \\\n",
       "0  0.145654  0.556755 -0.364629    ...     0.368024  0.462392 -0.574463   \n",
       "1  0.299951  1.157278 -0.399642    ...    -0.249666  0.356900 -0.454662   \n",
       "2  0.776752  0.529917  0.011440    ...     0.295634  0.334000 -0.249881   \n",
       "3  0.384036  0.839324  0.133455    ...     0.759046  0.142391 -0.291202   \n",
       "4  0.331883  0.204777 -0.238042    ...    -0.261981  0.516371 -0.313739   \n",
       "\n",
       "     w2v_44    w2v_45    w2v_46    w2v_47    w2v_48    w2v_49    w2v_50  \n",
       "0 -0.689719  0.481573 -0.351223 -0.009940 -0.662326  0.286771  0.016758  \n",
       "1 -1.079972  0.483924 -0.266482 -0.179494 -0.686098  0.274839 -0.433141  \n",
       "2 -0.681421  0.893921 -0.332154 -0.537582 -0.461029 -0.161782 -0.084217  \n",
       "3 -0.946421  0.612884 -0.317036 -0.406054 -0.360962  0.103662 -0.248183  \n",
       "4 -0.342349  0.633449 -0.306553 -0.494436 -0.491721  0.010740 -0.233595  \n",
       "\n",
       "[5 rows x 50 columns]"
      ]
     },
     "execution_count": 342,
     "metadata": {},
     "output_type": "execute_result"
    }
   ],
   "source": [
    "for x in range (len(g)):\n",
    "    try:\n",
    "        if(type(g[x])==float):\n",
    "            g[x]=[0]*50\n",
    "    except:\n",
    "        print(x)\n",
    "dar=pd.DataFrame(g,columns=columns)\n",
    "dar.head()"
   ]
  },
  {
   "cell_type": "code",
   "execution_count": 345,
   "metadata": {
    "collapsed": true
   },
   "outputs": [],
   "source": [
    "dar.to_csv(\"w2vDataFinal.csv\",index=False) # Saving the dataframe to a file"
   ]
  },
  {
   "cell_type": "code",
   "execution_count": null,
   "metadata": {
    "collapsed": true
   },
   "outputs": [],
   "source": []
  }
 ],
 "metadata": {
  "kernelspec": {
   "display_name": "Python 3",
   "language": "python",
   "name": "python3"
  },
  "language_info": {
   "codemirror_mode": {
    "name": "ipython",
    "version": 3
   },
   "file_extension": ".py",
   "mimetype": "text/x-python",
   "name": "python",
   "nbconvert_exporter": "python",
   "pygments_lexer": "ipython3",
   "version": "3.5.3"
  }
 },
 "nbformat": 4,
 "nbformat_minor": 2
}
