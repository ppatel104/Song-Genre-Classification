{
 "cells": [
  {
   "cell_type": "code",
   "execution_count": 1,
   "metadata": {},
   "outputs": [],
   "source": [
    "import numpy as np\n",
    "import pandas as pd\n",
    "data=pd.read_csv('Data/CombinedFeatures.csv')"
   ]
  },
  {
   "cell_type": "code",
   "execution_count": 2,
   "metadata": {},
   "outputs": [],
   "source": [
    "data = data.reindex(np.random.permutation(data.index))"
   ]
  },
  {
   "cell_type": "markdown",
   "metadata": {},
   "source": [
    "# Train - Test Split"
   ]
  },
  {
   "cell_type": "code",
   "execution_count": 3,
   "metadata": {
    "collapsed": true
   },
   "outputs": [],
   "source": [
    "from sklearn.model_selection import train_test_split"
   ]
  },
  {
   "cell_type": "code",
   "execution_count": 4,
   "metadata": {},
   "outputs": [],
   "source": [
    "train,test,train_y,test_y = train_test_split(data[data.columns.difference(['Genre'])],data['Genre'],train_size=0.67)"
   ]
  },
  {
   "cell_type": "code",
   "execution_count": 5,
   "metadata": {},
   "outputs": [
    {
     "data": {
      "text/plain": [
       "Counter({0: 13382, 1: 13309, 2: 13370, 3: 13539})"
      ]
     },
     "execution_count": 5,
     "metadata": {},
     "output_type": "execute_result"
    }
   ],
   "source": [
    "from collections import Counter\n",
    "c = Counter()\n",
    "c.update(train_y)\n",
    "c"
   ]
  },
  {
   "cell_type": "code",
   "execution_count": 6,
   "metadata": {},
   "outputs": [],
   "source": [
    "# nn = MLPClassifier()\n",
    "# nn.fit(train,train_y)\n",
    "# pred = nn.predict(test)\n",
    "# # vals = [0,1,2,3]\n",
    "# # y_actu = pd.Categorical(test_y, categories=vals)\n",
    "# # y_actu = pd.Series(y_actu,name=\"Actual\")\n",
    "# # y_pred = pd.Categorical(pred, categories=vals)\n",
    "# # y_pred = pd.Series(y_pred,name=\"Prediction\")\n",
    "# # print(accuracy_score(y_actu, y_pred))\n",
    "# # pd.crosstab(y_actu, y_pred,margins = True)"
   ]
  },
  {
   "cell_type": "code",
   "execution_count": 7,
   "metadata": {},
   "outputs": [],
   "source": [
    "from sklearn.neural_network import MLPClassifier\n",
    "import sklearn.metrics as mt"
   ]
  },
  {
   "cell_type": "code",
   "execution_count": 8,
   "metadata": {},
   "outputs": [],
   "source": [
    "nn = MLPClassifier()\n",
    "nn.fit(train,train_y)\n",
    "pred = nn.predict(test)\n"
   ]
  },
  {
   "cell_type": "markdown",
   "metadata": {},
   "source": [
    "# Confusion Matrix"
   ]
  },
  {
   "cell_type": "code",
   "execution_count": 9,
   "metadata": {},
   "outputs": [
    {
     "name": "stdout",
     "output_type": "stream",
     "text": [
      "0.699848484848\n"
     ]
    },
    {
     "data": {
      "text/html": [
       "<div>\n",
       "<table border=\"1\" class=\"dataframe\">\n",
       "  <thead>\n",
       "    <tr style=\"text-align: right;\">\n",
       "      <th>Prediction</th>\n",
       "      <th>0</th>\n",
       "      <th>1</th>\n",
       "      <th>2</th>\n",
       "      <th>3</th>\n",
       "      <th>All</th>\n",
       "    </tr>\n",
       "    <tr>\n",
       "      <th>Actual</th>\n",
       "      <th></th>\n",
       "      <th></th>\n",
       "      <th></th>\n",
       "      <th></th>\n",
       "      <th></th>\n",
       "    </tr>\n",
       "  </thead>\n",
       "  <tbody>\n",
       "    <tr>\n",
       "      <th>0</th>\n",
       "      <td>5544</td>\n",
       "      <td>156</td>\n",
       "      <td>407</td>\n",
       "      <td>511</td>\n",
       "      <td>6618</td>\n",
       "    </tr>\n",
       "    <tr>\n",
       "      <th>1</th>\n",
       "      <td>180</td>\n",
       "      <td>5053</td>\n",
       "      <td>596</td>\n",
       "      <td>862</td>\n",
       "      <td>6691</td>\n",
       "    </tr>\n",
       "    <tr>\n",
       "      <th>2</th>\n",
       "      <td>441</td>\n",
       "      <td>804</td>\n",
       "      <td>4109</td>\n",
       "      <td>1276</td>\n",
       "      <td>6630</td>\n",
       "    </tr>\n",
       "    <tr>\n",
       "      <th>3</th>\n",
       "      <td>433</td>\n",
       "      <td>994</td>\n",
       "      <td>1264</td>\n",
       "      <td>3770</td>\n",
       "      <td>6461</td>\n",
       "    </tr>\n",
       "    <tr>\n",
       "      <th>All</th>\n",
       "      <td>6598</td>\n",
       "      <td>7007</td>\n",
       "      <td>6376</td>\n",
       "      <td>6419</td>\n",
       "      <td>26400</td>\n",
       "    </tr>\n",
       "  </tbody>\n",
       "</table>\n",
       "</div>"
      ],
      "text/plain": [
       "Prediction     0     1     2     3    All\n",
       "Actual                                   \n",
       "0           5544   156   407   511   6618\n",
       "1            180  5053   596   862   6691\n",
       "2            441   804  4109  1276   6630\n",
       "3            433   994  1264  3770   6461\n",
       "All         6598  7007  6376  6419  26400"
      ]
     },
     "execution_count": 9,
     "metadata": {},
     "output_type": "execute_result"
    }
   ],
   "source": [
    "accuracy_scoren=(mt.accuracy_score(test_y,pred))\n",
    "f1=(mt.f1_score(test_y,pred,average='macro'))\n",
    "vals = [0,1,2,3]\n",
    "y_actu = pd.Categorical(test_y, categories=vals)\n",
    "y_actu = pd.Series(y_actu,name=\"Actual\")\n",
    "y_pred = pd.Categorical(pred, categories=vals)\n",
    "y_pred = pd.Series(y_pred,name=\"Prediction\")\n",
    "print(mt.accuracy_score(y_actu, y_pred))\n",
    "pd.crosstab(y_actu, y_pred,margins = True)"
   ]
  },
  {
   "cell_type": "code",
   "execution_count": null,
   "metadata": {},
   "outputs": [],
   "source": [
    "param1=nn.get_params()\n",
    "df1=pd.DataFrame.from_dict(param1)\n",
    "df1['Accuracy_Score']=accuracy_scoren\n",
    "df1['f1']=f1"
   ]
  },
  {
   "cell_type": "markdown",
   "metadata": {},
   "source": [
    "Parameters - activation function = Logistic and number of hidden layers = 200"
   ]
  },
  {
   "cell_type": "code",
   "execution_count": null,
   "metadata": {},
   "outputs": [],
   "source": [
    "nn.set_params(activation='logistic',hidden_layer_sizes=(200, ))\n",
    "nn.fit(train,train_y)\n",
    "pred = nn.predict(test)"
   ]
  },
  {
   "cell_type": "code",
   "execution_count": null,
   "metadata": {},
   "outputs": [],
   "source": [
    "accuracy_scoren=(mt.accuracy_score(test_y,pred))\n",
    "f1=(mt.f1_score(test_y,pred,average='macro'))\n",
    "param2=nn.get_params()\n",
    "df2=pd.DataFrame.from_dict(param2)\n",
    "df2['Accuracy_Score']=accuracy_scoren\n",
    "df2['f1']=f1\n",
    "df1=df1.append(df2)\n"
   ]
  },
  {
   "cell_type": "markdown",
   "metadata": {},
   "source": [
    "Parameters - activation function = tanh and number of hidden layers = 200"
   ]
  },
  {
   "cell_type": "code",
   "execution_count": null,
   "metadata": {},
   "outputs": [],
   "source": [
    "nn.set_params(activation='tanh',hidden_layer_sizes=(200, ))\n",
    "nn.fit(train,train_y)\n",
    "pred = nn.predict(test)\n",
    "accuracy_scoren=(mt.accuracy_score(test_y,pred))\n",
    "f1=(mt.f1_score(test_y,pred,average='macro'))\n",
    "param2=nn.get_params()\n",
    "df2=pd.DataFrame.from_dict(param2)\n",
    "df2['Accuracy_Score']=accuracy_scoren\n",
    "df2['f1']=f1\n",
    "df1=df1.append(df2)\n"
   ]
  },
  {
   "cell_type": "markdown",
   "metadata": {},
   "source": [
    "Parameters - activation function = relu and number of hidden layers = 200"
   ]
  },
  {
   "cell_type": "code",
   "execution_count": null,
   "metadata": {},
   "outputs": [],
   "source": [
    "nn.set_params(activation='relu',hidden_layer_sizes=(200, ))\n",
    "nn.fit(train,train_y)\n",
    "pred = nn.predict(test)\n",
    "accuracy_scoren=(mt.accuracy_score(test_y,pred))\n",
    "f1=(mt.f1_score(test_y,pred,average='macro'))\n",
    "param2=nn.get_params()\n",
    "df2=pd.DataFrame.from_dict(param2)\n",
    "df2['Accuracy_Score']=accuracy_scoren\n",
    "df2['f1']=f1\n",
    "df1=df1.append(df2)\n"
   ]
  },
  {
   "cell_type": "markdown",
   "metadata": {},
   "source": [
    "Parameters - activation function = relu and number of hidden layers = 100"
   ]
  },
  {
   "cell_type": "code",
   "execution_count": null,
   "metadata": {},
   "outputs": [],
   "source": [
    "nn.set_params(activation='relu',hidden_layer_sizes=(100, ))\n",
    "nn.fit(train,train_y)\n",
    "pred = nn.predict(test)\n",
    "accuracy_scoren=(mt.accuracy_score(test_y,pred))\n",
    "f1=(mt.f1_score(test_y,pred,average='macro'))\n",
    "param2=nn.get_params()\n",
    "df2=pd.DataFrame.from_dict(param2)\n",
    "df2['Accuracy_Score']=accuracy_scoren\n",
    "df2['f1']=f1\n",
    "df1=df1.append(df2)\n"
   ]
  },
  {
   "cell_type": "markdown",
   "metadata": {},
   "source": [
    "Parameters - activation function = Logistic and number of hidden layers = 100 and solver = lbfgs"
   ]
  },
  {
   "cell_type": "code",
   "execution_count": null,
   "metadata": {},
   "outputs": [],
   "source": [
    "nn.set_params(activation='logistic',hidden_layer_sizes=(100, ),solver='lbfgs')\n",
    "nn.fit(train,train_y)\n",
    "pred = nn.predict(test)\n",
    "accuracy_scoren=(mt.accuracy_score(test_y,pred))\n",
    "f1=(mt.f1_score(test_y,pred,average='macro'))\n",
    "param2=nn.get_params()\n",
    "df2=pd.DataFrame.from_dict(param2)\n",
    "df2['Accuracy_Score']=accuracy_scoren\n",
    "df2['f1']=f1\n",
    "df1=df1.append(df2)\n"
   ]
  },
  {
   "cell_type": "markdown",
   "metadata": {},
   "source": [
    "Parameters - learning rate = adaptive and number of hidden layers = 100"
   ]
  },
  {
   "cell_type": "code",
   "execution_count": null,
   "metadata": {},
   "outputs": [],
   "source": [
    "nn.set_params(learning_rate='adaptive',hidden_layer_sizes=(100, ))\n",
    "nn.fit(train,train_y)\n",
    "pred = nn.predict(test)\n",
    "accuracy_scoren=(mt.accuracy_score(test_y,pred))\n",
    "f1=(mt.f1_score(test_y,pred,average='macro'))\n",
    "param2=nn.get_params()\n",
    "df2=pd.DataFrame.from_dict(param2)\n",
    "df2['Accuracy_Score']=accuracy_scoren\n",
    "df2['f1']=f1\n",
    "df1=df1.append(df2)\n"
   ]
  },
  {
   "cell_type": "markdown",
   "metadata": {},
   "source": [
    "Parameters - activation function = relu and number of hidden layers = 100, learning rate = adaptive"
   ]
  },
  {
   "cell_type": "code",
   "execution_count": null,
   "metadata": {},
   "outputs": [],
   "source": [
    "nn.set_params(activation='relu',learning_rate='adaptive',hidden_layer_sizes=(100, ))\n",
    "nn.fit(train,train_y)\n",
    "pred = nn.predict(test)\n",
    "accuracy_scoren=(mt.accuracy_score(test_y,pred))\n",
    "f1=(mt.f1_score(test_y,pred,average='macro'))\n",
    "param2=nn.get_params()\n",
    "df2=pd.DataFrame.from_dict(param2)\n",
    "df2['Accuracy_Score']=accuracy_scoren\n",
    "df2['f1']=f1\n",
    "df1=df1.append(df2)"
   ]
  },
  {
   "cell_type": "markdown",
   "metadata": {},
   "source": [
    "Final Data Frame have all the rows as different parametrs tried"
   ]
  },
  {
   "cell_type": "code",
   "execution_count": null,
   "metadata": {},
   "outputs": [],
   "source": [
    "nn = MLPClassifier()\n",
    "nn.set_params(activation='relu',learning_rate='adaptive',hidden_layer_sizes=(100, ))\n",
    "nn.fit(train,train_y)\n",
    "pred = nn.predict(test)\n",
    "accuracy_scoren=(mt.accuracy_score(test_y,pred))\n",
    "f1=(mt.f1_score(test_y,pred,average='macro'))\n",
    "param2=nn.get_params()\n",
    "df2=pd.DataFrame.from_dict(param2)\n",
    "df2['Accuracy_Score']=accuracy_scoren\n",
    "df2['f1']=f1\n",
    "df1=df1.append(df2)\n",
    "df1"
   ]
  },
  {
   "cell_type": "code",
   "execution_count": null,
   "metadata": {
    "collapsed": true
   },
   "outputs": [],
   "source": []
  },
  {
   "cell_type": "code",
   "execution_count": null,
   "metadata": {
    "collapsed": true
   },
   "outputs": [],
   "source": []
  }
 ],
 "metadata": {
  "anaconda-cloud": {},
  "kernelspec": {
   "display_name": "Python 3",
   "language": "python",
   "name": "python3"
  },
  "language_info": {
   "codemirror_mode": {
    "name": "ipython",
    "version": 3
   },
   "file_extension": ".py",
   "mimetype": "text/x-python",
   "name": "python",
   "nbconvert_exporter": "python",
   "pygments_lexer": "ipython3",
   "version": "3.5.3"
  }
 },
 "nbformat": 4,
 "nbformat_minor": 1
}
